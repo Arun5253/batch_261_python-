{
 "cells": [
  {
   "attachments": {
    "download%20%282%29.png": {
     "image/png": "[encoded data removed]"
    }
   },
   "cell_type": "markdown",
   "id": "70947886",
   "metadata": {},
   "source": [
    "# 18.center \n",
    "- The center() method will center align the string, using a specified character (space is default) as the fill character\n",
    "   - syntax- string.center(length, character)\n",
    "- Here, str is a string.\n",
    "- center() Parameters\n",
    "- The center() method takes two parameters:\n",
    "- width - length of the string with padded character s\n",
    "- fillchar (optional) - padding character\n",
    "![download%20%282%29.png](attachment:download%20%282%29.png)"
   ]
  },
  {
   "cell_type": "code",
   "execution_count": 3,
   "id": "d221b856",
   "metadata": {},
   "outputs": [
    {
     "name": "stdout",
     "output_type": "stream",
     "text": [
      "  banana  \n",
      "       banana       \n",
      "            banana            \n",
      "++++++ banana ++++++\n",
      "=========== banana ===========\n",
      "* banana *\n",
      " banana \n",
      "****** banana ******\n"
     ]
    }
   ],
   "source": [
    "x = \" banana \"\n",
    "print(x.center(10))\n",
    "print(x.center(20))\n",
    "print(x.center(30))\n",
    "print(x.center(20,'+'))\n",
    "print(x.center(30,'='))\n",
    "print(x.center(10,'*'))\n",
    "print(x.center(5,'*'))\n",
    "print(x.center(20,'*'))\n"
   ]
  },
  {
   "attachments": {
    "download%20%283%29.png": {
     "image/png": "[encoded data removed]"
    }
   },
   "cell_type": "markdown",
   "id": "1147192c",
   "metadata": {},
   "source": [
    " # 19. ljust \n",
    "- returns a left-justified string according to the width specified and fills the remaining spaces with blank spaces if the character argument is not passed\n",
    "##### syntax - string.ljust(width[, fillchar])\n",
    "- Here, fillchar is an optional parameter\n",
    "##### String ljust() Parameters \n",
    "- ljust() method takes two parameters:\n",
    "- width - width of the given string. If width is less than or equal to the length of the string, the original string is returned.\n",
    "- fillchar (Optional) - character to fill the remaining space of the width\n",
    "##### Return value from String ljust()\n",
    "- The ljust() method returns the left-justified string within the given minimum width.\n",
    "- If fillchar is defined, it also fills the remaining space with the defined character\n",
    "![download%20%283%29.png](attachment:download%20%283%29.png)"
   ]
  },
  {
   "cell_type": "code",
   "execution_count": 4,
   "id": "875cbb6d",
   "metadata": {},
   "outputs": [
    {
     "name": "stdout",
     "output_type": "stream",
     "text": [
      " banana             \n",
      " banana                                           \n",
      " banana ************\n"
     ]
    }
   ],
   "source": [
    "print(x.ljust(20))\n",
    "print(x.ljust(50)) \n",
    "print(x.ljust(20, '*')) # 20 is width # '*' is fillchar "
   ]
  },
  {
   "attachments": {
    "images.jpeg": {
     "image/jpeg": "[encoded data removed]"
    }
   },
   "cell_type": "markdown",
   "id": "c47eee39",
   "metadata": {},
   "source": [
    "# 20.rjust\n",
    "- returns a right-justified string according to the width specified and fills the remaining spaces with blank spaces if the character argument is not passed\n",
    "### syntax - string.ljust(width[, fillchar]) \n",
    "- Here, rjust() right aligns string using fillchar up to width.\n",
    "- he rjust() method can take two parameters:\n",
    "- width - width of the given string\n",
    "- fillchar(Optional) - character to fill the remaining space of the width\n",
    "- Note: If width is less than or equal to the length of the string, the original string is returned.\n",
    "- rjust() Return Value\n",
    "- The rjust() method returns:\n",
    "- the right-justified string with the given width.\n",
    "![images.jpeg](attachment:images.jpeg)"
   ]
  },
  {
   "cell_type": "code",
   "execution_count": 26,
   "id": "98cb0bc8",
   "metadata": {},
   "outputs": [
    {
     "name": "stdout",
     "output_type": "stream",
     "text": [
      "              banana\n",
      "                                            banana\n",
      "**************banana\n"
     ]
    }
   ],
   "source": [
    "print(x.rjust(20))\n",
    "print(x.rjust(50)) \n",
    "print(x.rjust(20, '*'))"
   ]
  },
  {
   "attachments": {
    "download%20%284%29.png": {
     "image/png": "[encoded data removed]"
    }
   },
   "cell_type": "markdown",
   "id": "51155966",
   "metadata": {},
   "source": [
    "# 21.zfill \n",
    "- a string method that returns a copy of the string by padding 0s to the left of the input string\n",
    "* Syntax - str.zfill(width)\n",
    "- zfill() Parameter\n",
    "- zfill() takes a single character width.\n",
    "- The width specifies the length of the returned string from zfill() with 0 digits filled to the left.\n",
    "- The width specifies the length of the returned string from zfill() with 0 digits filled to the lef\n",
    "- f a string starts with the sign prefix ('+', '-'), 0 digits are filled after the first sign prefix character.\n",
    "![download%20%284%29.png](attachment:download%20%284%29.png)"
   ]
  },
  {
   "cell_type": "code",
   "execution_count": 7,
   "id": "11f90dc3",
   "metadata": {},
   "outputs": [
    {
     "name": "stdout",
     "output_type": "stream",
     "text": [
      "000000000000 banana \n",
      " banana 000000000000\n",
      " banana 0000000\n"
     ]
    }
   ],
   "source": [
    "print(x.zfill(20))\n",
    "print(x.ljust(20,'0'))\n",
    "print(x.ljust(15,'0'))\n",
    "\n"
   ]
  },
  {
   "attachments": {
    "download%20%285%29.png": {
     "image/png": "[encoded data removed]"
    }
   },
   "cell_type": "markdown",
   "id": "5ee67cd6",
   "metadata": {},
   "source": [
    "# 22.strip ()\n",
    "- The strip() method returns a copy of the string by removing both the leading and the trailing characters (based on the string argument passed)\n",
    "## syntax - string.strip([chars])\n",
    "##### strip() Parameters\n",
    "- chars (optional) - a string specifying the set of characters to be removed from the left and right part of the string.\n",
    "- The strip() method removes characters from both left and right based on the argument (a string specifying the set of characters to be removed).\n",
    "\n",
    "  ** Note: If the chars argument is not provided, all leading and trailing whitespaces are removed from the string.\n",
    "- strip() returns a copy of the string with both leading and trailing characters stripped.\n",
    "\n",
    "![download%20%285%29.png](attachment:download%20%285%29.png)\n"
   ]
  },
  {
   "cell_type": "code",
   "execution_count": 9,
   "id": "99036113",
   "metadata": {},
   "outputs": [
    {
     "name": "stdout",
     "output_type": "stream",
     "text": [
      "xoxo love xoxo\n",
      "lov\n",
      "  xoxo love xoxo   \n",
      "droid is awesome\n"
     ]
    }
   ],
   "source": [
    "string = '  xoxo love xoxo   '\n",
    "print(string.strip()) # Leading and trailing whitespaces are removed\n",
    "print(string.strip(' xoe')) # All <whitespace>,x,o,e characters in the left # and right of string are removed\n",
    "print(string.strip('stx'))# Argument doesn't contain space # No characters are removed.\n",
    "string = 'android is awesome'\n",
    "print(string.strip('an'))"
   ]
  },
  {
   "cell_type": "code",
   "execution_count": 38,
   "id": "7ccc56bf",
   "metadata": {},
   "outputs": [
    {
     "data": {
      "text/plain": [
       "'!@#banana#@!'"
      ]
     },
     "execution_count": 38,
     "metadata": {},
     "output_type": "execute_result"
    }
   ],
   "source": [
    "y = '!@#'+x+'#@!'\n",
    "y"
   ]
  },
  {
   "cell_type": "code",
   "execution_count": 49,
   "id": "32b62e46",
   "metadata": {},
   "outputs": [
    {
     "data": {
      "text/plain": [
       "'banana'"
      ]
     },
     "execution_count": 49,
     "metadata": {},
     "output_type": "execute_result"
    }
   ],
   "source": [
    "xc.strip()"
   ]
  },
  {
   "cell_type": "code",
   "execution_count": 50,
   "id": "7625a11c",
   "metadata": {},
   "outputs": [
    {
     "data": {
      "text/plain": [
       "'#banana#'"
      ]
     },
     "execution_count": 50,
     "metadata": {},
     "output_type": "execute_result"
    }
   ],
   "source": [
    "y.strip('!@')"
   ]
  },
  {
   "cell_type": "code",
   "execution_count": 13,
   "id": "e9d53ff0",
   "metadata": {},
   "outputs": [
    {
     "data": {
      "text/plain": [
       "'  banan^a  '"
      ]
     },
     "execution_count": 13,
     "metadata": {},
     "output_type": "execute_result"
    }
   ],
   "source": [
    "x = ' '+x[:-2]+'^'+x[-2:]+' '\n",
    "x"
   ]
  },
  {
   "cell_type": "code",
   "execution_count": 67,
   "id": "d94f55d6",
   "metadata": {},
   "outputs": [
    {
     "name": "stdout",
     "output_type": "stream",
     "text": [
      "   !@#banana#^@^!^   \n"
     ]
    }
   ],
   "source": [
    "print(x.strip('a!#$@'))"
   ]
  },
  {
   "attachments": {
    "numpy-string-operations-lstrip-function-image.png": {
     "image/png": "[encoded data removed]"
    }
   },
   "cell_type": "markdown",
   "id": "6e803dcc",
   "metadata": {},
   "source": [
    "# 23.lstrip \n",
    "- The lstrip() removes characters from the left based on the argument (a string specifying the set of characters to be removed)\n",
    "#### synytax- str.lstrip([chars])\n",
    "##### lstrip() Parameters\n",
    "- chars (optional) - a string specifying the set of characters to be removed.\n",
    "- Return Value from lstrip() \n",
    "##### lstrip() returns a copy of the string with leading characters stripped.\n",
    "- All combinations of characters in the chars argument are removed from the left of the string until the first mismatch.If chars argument is not provided, all leading whitespaces are removed from the string.\n",
    "![numpy-string-operations-lstrip-function-image.png](attachment:numpy-string-operations-lstrip-function-image.png)\n"
   ]
  },
  {
   "cell_type": "code",
   "execution_count": 15,
   "id": "9ac719c9",
   "metadata": {},
   "outputs": [
    {
     "name": "stdout",
     "output_type": "stream",
     "text": [
      "#$banana$#@@!\n",
      "this is good \n",
      "   this is good \n",
      "his is good \n"
     ]
    }
   ],
   "source": [
    "z = '!@@#$banana$#@@!'\n",
    "print(z.lstrip('!@'))\n",
    "\n",
    "random_string = '   this is good '\n",
    "print(random_string.lstrip()) # Leading whitepsace are removed\n",
    "print(random_string.lstrip('sti')) # Argument doesn't contain space# No characters are removed.\n",
    "print(random_string.lstrip('s ti')) # s will be removed \n"
   ]
  },
  {
   "attachments": {
    "numpy-string-operations-rstrip-function-image.png": {
     "image/png": "[encoded data removed]"
    }
   },
   "cell_type": "markdown",
   "id": "1edf8e70",
   "metadata": {},
   "source": [
    "# 24.rstrip\n",
    "- The rstrip() method returns a copy of the string with trailing characters removed (based on the string argument passed)\n",
    "#### syntax -string.rstrip([chars])\n",
    "##### rstrip() Parameters\n",
    "- chars (optional) - a string specifying the set of trailing characters to be removed.\n",
    "- The rstrip() removes characters from the right based on the argument (a string specifying the set of characters to be removed).\n",
    "- If chars argument is not provided, all whitespaces on the right are removed from the string.\n",
    "- Return Value from rstrip()\n",
    "- The rstrip() returns a copy of the string with trailing characters stripped.\n",
    "- All combinations of characters in chars argument are removed from the right of the string until the first mismatch.\n",
    "\n",
    "![numpy-string-operations-rstrip-function-image.png](attachment:numpy-string-operations-rstrip-function-image.png)"
   ]
  },
  {
   "cell_type": "code",
   "execution_count": 17,
   "id": "11de0632",
   "metadata": {},
   "outputs": [
    {
     "name": "stdout",
     "output_type": "stream",
     "text": [
      "!@@#$banana$#\n",
      "this is good\n",
      "this is good\n",
      "this is g\n"
     ]
    }
   ],
   "source": [
    "z = '!@@#$banana$#@@!'\n",
    "print(z.rstrip('!@'))\n",
    "\n",
    "random_string = 'this is good    ' \n",
    "print(random_string.rstrip())# whitespace are removed\n",
    "print(random_string.rstrip('si oo')) # 'si oo' are not removed  characters so nothing is removed\n",
    "print(random_string.rstrip('sid oo')) # in 'sid oo', 'd oo' are the removed characters, 'ood' is removed from the string\n",
    "\n",
    "\n"
   ]
  },
  {
   "attachments": {
    "download%20%286%29.png": {
     "image/png": "[encoded data removed]"
    }
   },
   "cell_type": "markdown",
   "id": "4b112290",
   "metadata": {},
   "source": [
    "# 25.***join***\n",
    "- The string join() method returns a string by joining all the elements of an iterable (list, string, tuple), separated by the given separator\n",
    "#### Syntax- string.join(iterable)\n",
    "- The join() method takes an iterable (objects capable of returning its members one at a time) as its parameter.\n",
    "\n",
    "##### Some of the example of iterables are:\n",
    "\n",
    "- Native data types - List, Tuple, String, Dictionary and Set.\n",
    "- File objects and objects you define with an __iter__() or __getitem()__ method.\n",
    "-  Note: The join() method provides a flexible way to create strings from iterable objects. It joins each element of an iterable (such as list, string, and tuple) by a string separator (the string on which the join() method is called) and returns the concatenated string.\n",
    "- If the iterable contains any non-string values, it raises the TypeError exception.\n",
    "\n",
    "![download%20%286%29.png](attachment:download%20%286%29.png)\n"
   ]
  },
  {
   "cell_type": "code",
   "execution_count": 23,
   "id": "b09ab987",
   "metadata": {},
   "outputs": [
    {
     "name": "stdout",
     "output_type": "stream",
     "text": [
      "1, 2, 3, 4\n",
      "1*2*3*4\n",
      "1, 2, 3, 4\n",
      "1abc2abc3\n",
      "a123b123c\n"
     ]
    }
   ],
   "source": [
    "# .join() with lists\n",
    "L1= ['1', '2', '3', '4']\n",
    "separator = ', '\n",
    "print(separator.join(L1))\n",
    "print('*'.join(L1))\n",
    "\n",
    "# .join() with tuples\n",
    "nTuple1 = ('1', '2', '3', '4')\n",
    "print(separator.join(nTuple1))\n",
    "\n",
    "s1 = 'abc'\n",
    "s2 = '123'\n",
    "\n",
    "# each element of s2 is separated by s1\n",
    "# '1'+ 'abc'+ '2'+ 'abc'+ '3'\n",
    "print( s1.join(s2))\n",
    "\n",
    "# each element of s1 is separated by s2\n",
    "# 'a'+ '123'+ 'b'+ '123'+ 'b'\n",
    "print(s2.join(s1))"
   ]
  },
  {
   "cell_type": "code",
   "execution_count": 70,
   "id": "a34ed6d8",
   "metadata": {},
   "outputs": [
    {
     "data": {
      "text/plain": [
       "'*!a!Q'"
      ]
     },
     "execution_count": 70,
     "metadata": {},
     "output_type": "execute_result"
    }
   ],
   "source": [
    "['*','a','Q']\n",
    "'!'.join(['*','a','Q'])\n",
    " "
   ]
  },
  {
   "cell_type": "code",
   "execution_count": 72,
   "id": "b516941e",
   "metadata": {},
   "outputs": [
    {
     "data": {
      "text/plain": [
       "'s8t8r8i8n8g'"
      ]
     },
     "execution_count": 72,
     "metadata": {},
     "output_type": "execute_result"
    }
   ],
   "source": [
    "'8'.join('string') "
   ]
  },
  {
   "cell_type": "code",
   "execution_count": 87,
   "id": "f20a9f81",
   "metadata": {},
   "outputs": [
    {
     "data": {
      "text/plain": [
       "['that', 'returns', 'a', 'left-justified', 'string', 'according', 'to', 'the']"
      ]
     },
     "execution_count": 87,
     "metadata": {},
     "output_type": "execute_result"
    }
   ],
   "source": [
    "m = 'that returns a left-justified string according to the '\n",
    "x= m.split()\n",
    "x    "
   ]
  },
  {
   "cell_type": "code",
   "execution_count": 89,
   "id": "7db531bf",
   "metadata": {},
   "outputs": [
    {
     "data": {
      "text/plain": [
       "'that**returns**a**left-justified**string**according**to**the'"
      ]
     },
     "execution_count": 89,
     "metadata": {},
     "output_type": "execute_result"
    }
   ],
   "source": [
    "'**'.join(x)"
   ]
  },
  {
   "cell_type": "markdown",
   "id": "13526017",
   "metadata": {},
   "source": [
    "# boolean methods"
   ]
  },
  {
   "cell_type": "code",
   "execution_count": 92,
   "id": "f21b0746",
   "metadata": {},
   "outputs": [
    {
     "data": {
      "text/plain": [
       "True"
      ]
     },
     "execution_count": 92,
     "metadata": {},
     "output_type": "execute_result"
    }
   ],
   "source": [
    "'A BC z1'.startswith('A ')"
   ]
  },
  {
   "cell_type": "code",
   "execution_count": 94,
   "id": "61d84835",
   "metadata": {},
   "outputs": [
    {
     "data": {
      "text/plain": [
       "False"
      ]
     },
     "execution_count": 94,
     "metadata": {},
     "output_type": "execute_result"
    }
   ],
   "source": [
    "'A BC z1'.startswith('AB ')"
   ]
  },
  {
   "cell_type": "code",
   "execution_count": 96,
   "id": "69d6eeb2",
   "metadata": {},
   "outputs": [
    {
     "data": {
      "text/plain": [
       "True"
      ]
     },
     "execution_count": 96,
     "metadata": {},
     "output_type": "execute_result"
    }
   ],
   "source": [
    "'A BC z1'.startswith('A BC ')"
   ]
  },
  {
   "cell_type": "markdown",
   "id": "af7cf9fa",
   "metadata": {},
   "source": [
    "# There are a number of string methods that will return Boolean values:- \n",
    "## 26 .is numeric \n",
    " - str.isnumeric() String consists of only numeric character\n",
    "##### syntax-string.isnumeric()\n",
    "- Here, isnumeric() checks if all characters in string are numeric or not.\n",
    "- isnumeric() Parameters\n",
    "- The isnumeric() method doesn't take any parameters.\n",
    "- isnumeric() Return Value\n",
    "- The isnumeric() method returns:\n",
    "- True -if all characters in the string are numeric\n",
    "- False -if at least one character is not a numeric\n",
    "\n",
    "## 27.isalnum\n",
    "- The isalnum() method returns True if all characters in the string are alphanumeric (either alphabets or numbers). If not, it returns False\n",
    "##### syntax- string.isalnum()\n",
    "- Here, the isalnum() method checks if all the characters of string are alphanumeric or not.\n",
    "- isalnum() Parameters\n",
    "- The isalnum() method doesn't take any parameters.\n",
    "- isalnum() Return Value\n",
    "- The isalnum() method returns:\n",
    "- True - if all characters in the string are alphanumeric\n",
    "- False - if at least one character is not alphanumeric\n",
    "\n",
    "## 28'isaalpha\n",
    "- str.isalpha()\tString consists of only alphabetic characters (no symbols)\n",
    "##### syntax- string.isalpha()\n",
    "- isalpha() Parameters\n",
    "- isalpha() doesn't take any parameters.\n",
    "- Return Value from isalpha()\n",
    "- The isalpha() returns:\n",
    "- True if all characters in the string are alphabets (can be both lowercase and uppercase).\n",
    "- False if at least one character is not alphabet.\n",
    "\n",
    "## 30.islower\n",
    "- str.islower()\tString’s alphabetic characters are all lower case\n",
    "##### syntax- string.islower()\n",
    "- islower() parameters\n",
    "- The islower() method doesn't take any parameters.\n",
    "- Return Value from islower()\n",
    "- The islower() method returns:\n",
    "- True if all alphabets that exist in the string are lowercase alphabets.\n",
    "- False if the string contains at least one uppercase alphabet.\n",
    "\n",
    "## 31.isspace\n",
    "- Characters that are used for spacing are called whitespace characters. For example: tabs, spaces, newline, etc.\n",
    "##### syntax -string.isspace()\n",
    "- isspace() Parameters\n",
    "- isspace() method doesn't take any parameters.\n",
    "- Return Value from isspace()\n",
    "- isspace() method returns:\n",
    "- True if all characters in the string are whitespace characters\n",
    "- False if the string is empty or contains at least one non-printable character\n",
    "\n",
    "## 32.istitle\n",
    "- str.istitle()\tString is in title case\n",
    "##### syntax- string.istitle()\n",
    "- istitle() Parameters\n",
    "- The istitle() method doesn't take any parameters.\n",
    "- Return Value from istitle()\n",
    "- The istitle() method returns:\n",
    "- True if the string is a titlecased string\n",
    "- False if the string is not a titlecased string or an empty string\n",
    "- Example 1: Working of istitle()\n",
    "\n",
    "## 33.isupper \n",
    "- str.isupper()\tString’s alphabetic characters are all upper case\n",
    "##### syntax- string.isupper()\n",
    "- String isupper() Parameters\n",
    "- The isupper() method doesn't take any parameters.\n",
    "- Return value from String isupper() \n",
    "- The isupper() method returns:\n",
    "- True if all characters in a string are uppercase characters\n",
    "- False if any characters in a string are lowercase characters\n"
   ]
  },
  {
   "cell_type": "code",
   "execution_count": 25,
   "id": "ccfab619",
   "metadata": {},
   "outputs": [
    {
     "name": "stdout",
     "output_type": "stream",
     "text": [
      "True\n",
      "False\n",
      "False\n",
      "True\n",
      "True\n",
      "False\n",
      "False\n",
      "True\n"
     ]
    }
   ],
   "source": [
    "number = \"5\"\n",
    "letters = \"abcdef\"\n",
    "movie = \"2001: A SAMMY ODYSSEY\"\n",
    "book = \"A Thousand Splendid Sharks\"\n",
    "poem = \"sammy lived in a pretty how town\"\n",
    "print(number.isnumeric())\n",
    "print(letters.isnumeric())\n",
    "print(movie.islower())\n",
    "print(movie.isupper())\n",
    "print(book.istitle())\n",
    "print(book.isupper())\n",
    "print(poem.istitle())\n",
    "print(poem.islower())"
   ]
  },
  {
   "cell_type": "markdown",
   "id": "b3b79aed",
   "metadata": {},
   "source": [
    "# 34. startswith()\n",
    "- The startswith() method returns True if a string starts with the specified prefix(string). If not, it returns False\n",
    "##### syntax - str.startswith(prefix[, start[, end]])\n",
    "- startswith() Parameters\n",
    "- startswith() method takes a maximum of three parameters:\n",
    "- prefix - String or tuple of strings to be checked\n",
    "- start (optional) - Beginning position where prefix is to be checked within the string.\n",
    "- end (optional) - Ending position where prefix is to be checked within the string.\n",
    "- startswith() Return Value\n",
    "- startswith() method returns a boolean.\n",
    "-  returns True if the string starts with the specified prefix.\n",
    "- It returns False if the string doesn't start with the specified prefix."
   ]
  },
  {
   "cell_type": "code",
   "execution_count": 29,
   "id": "590d1d42",
   "metadata": {},
   "outputs": [
    {
     "name": "stdout",
     "output_type": "stream",
     "text": [
      "False\n",
      "True\n",
      "True\n"
     ]
    }
   ],
   "source": [
    "text = \"Python is easy to learn in innomatics.\"\n",
    "\n",
    "result = text.startswith('is easy')# returns False\n",
    "print(result)\n",
    "result = text.startswith('Python is ')# returns True\n",
    "print(result)\n",
    "result = text.startswith('Python is easy to learn in innomatics.')# returns True\n",
    "print(result)"
   ]
  },
  {
   "cell_type": "markdown",
   "id": "e111f599",
   "metadata": {},
   "source": [
    "# 35.endswith()\n",
    "- The endswith() method returns True if a string ends with the specified suffix. If not, it returns False\n",
    "##### syntax-str.endswith(suffix[, start[, end]])\n",
    "- endswith() Parameters\n",
    "- The endswith() takes three parameters:\n",
    "- suffix - String or tuple of suffixes to be checked\n",
    "- start (optional) - Beginning position where suffix is to be checked within the string.\n",
    "- end (optional) - Ending position where suffix is to be checked within the string.\n",
    "- Return Value from endswith()\n",
    "- The endswith() method returns a boolean.\n",
    "- It returns True if a string ends with the specified suffix.\n",
    "- It returns False if a string doesn't end with the specified suffix."
   ]
  },
  {
   "cell_type": "code",
   "execution_count": 31,
   "id": "08d5009a",
   "metadata": {},
   "outputs": [
    {
     "name": "stdout",
     "output_type": "stream",
     "text": [
      "False\n",
      "True\n",
      "True\n"
     ]
    }
   ],
   "source": [
    "text = \"Python is easy to learn in innomatics.\"\n",
    "result = text.endswith('to learn')# returns False\n",
    "print(result)\n",
    "result = text.endswith('innomatics.') # returns True\n",
    "print(result)\n",
    "result = text.endswith('Python is easy to learn in innomatics.') # returns True\n",
    "print(result)"
   ]
  },
  {
   "cell_type": "markdown",
   "id": "278ab452",
   "metadata": {},
   "source": [
    "# 36.isdecimal()\n",
    "##### syntax-string.isdecimal()\n",
    "- isdecimal() Parameters\n",
    "- The isdecimal() doesn't take any parameters.\n",
    "- Return Value from isdecimal()\n",
    "- The isdecimal() returns:\n",
    "- True if all characters in the string are decimal characters.\n",
    "- False if at least one character is not decimal character.\n"
   ]
  },
  {
   "cell_type": "code",
   "execution_count": 32,
   "id": "05e8b6e6",
   "metadata": {},
   "outputs": [
    {
     "name": "stdout",
     "output_type": "stream",
     "text": [
      "True\n",
      "False\n",
      "False\n"
     ]
    }
   ],
   "source": [
    "s = \"28212\"\n",
    "print(s.isdecimal())\n",
    "s = \"32ladk3\"  # contains alphabets\n",
    "print(s.isdecimal())\n",
    "s = \"Mo3 nicaG el l22er\" # contains alphabets and spaces\n",
    "print(s.isdecimal())"
   ]
  },
  {
   "cell_type": "markdown",
   "id": "aa098cbc",
   "metadata": {},
   "source": [
    "# 37.encode\n",
    "- The encode() method returns an encoded version of the given string.\n",
    "##### syntax -string.encode(encoding='UTF-8',errors='strict')\n",
    "- encoding − This parameter specifies the encodings to be used. For a list of all encoding schemes, please visit: Standard Encodings.\n",
    "- errors − This parameter specifies an error handling scheme. The default for errors is 'strict' which means that the encoding errors raise a UnicodeError. Other possible values are 'ignore', 'replace', 'xmlcharrefreplace', 'backslashreplace' and any other name registered via codecs.register_error()."
   ]
  },
  {
   "cell_type": "markdown",
   "id": "e9fa994c",
   "metadata": {},
   "source": [
    "# 38. expandtabs()\n",
    "##### syntax- string.expandtabs(tabsize)\n",
    "- expandtabs() Parameters\n",
    "- The expandtabs() takes an integer tabsize argument. The default tabsize is 8.\n",
    "- Return Value from expandtabs()\n",
    "- The expandtabs() returns a string where all '\\t' characters are replaced with whitespace characters until the next multiple of tabsize parameter."
   ]
  },
  {
   "cell_type": "code",
   "execution_count": 35,
   "id": "ebd6f420",
   "metadata": {},
   "outputs": [
    {
     "name": "stdout",
     "output_type": "stream",
     "text": [
      "xyz     12345   abc\n"
     ]
    }
   ],
   "source": [
    "str = 'xyz\\t12345\\tabc'\n",
    "result = str.expandtabs() # no argument is passed # default tabsize is 8\n",
    "print(result)\n"
   ]
  },
  {
   "cell_type": "markdown",
   "id": "68c2231b",
   "metadata": {},
   "source": [
    "# 39.format_map() \n",
    "- format_map method is an inbuilt function , which is used to return a dictionary key’s value.\n",
    "##### Syntax: string.format_map(z)\n",
    "- Parameters:Here z is a variable in which the input dictionary is stored and string is the key of the input dictionary.\n",
    "- input_dict: Takes a single parameter which is the input dictionary."
   ]
  },
  {
   "cell_type": "code",
   "execution_count": 41,
   "id": "76cbb8be",
   "metadata": {},
   "outputs": [
    {
     "name": "stdout",
     "output_type": "stream",
     "text": [
      "data's last name is analytics\n"
     ]
    }
   ],
   "source": [
    "f = {'q':'data', 'r':'analytics'} \n",
    "print(\"{q}'s last name is {r}\".format_map(f))"
   ]
  },
  {
   "cell_type": "markdown",
   "id": "de570bc6",
   "metadata": {},
   "source": [
    "# 40.   isdigit()\n",
    "- The isdigit() method returns True if all characters in a string are digits. If not, it returns False\n",
    "##### syntax - string.isdigit()\n",
    "- isdigit() Parameters\n",
    "- The isdigit() doesn't take any parameters.\n",
    "- Return Value from isdigit()\n",
    "- The isdigit() returns:\n",
    "- True if all characters in the string are digits.\n",
    "- False if at least one character is not a digit."
   ]
  },
  {
   "cell_type": "code",
   "execution_count": 43,
   "id": "7d569414",
   "metadata": {},
   "outputs": [
    {
     "name": "stdout",
     "output_type": "stream",
     "text": [
      "True\n",
      "False\n"
     ]
    }
   ],
   "source": [
    "s = \"28212\"\n",
    "print(s.isdigit())\n",
    "s = \"Mo3 nicaG el l22er\"  #contains alphabets and spaces\n",
    "print(s.isdigit())"
   ]
  },
  {
   "cell_type": "markdown",
   "id": "8f127d55",
   "metadata": {},
   "source": [
    "# 41. isidentifier()\n",
    "\n",
    "##### syntax-string.isidentifier()\n",
    "- isidentifier() Paramters\n",
    "- The isidentifier() method doesn't take any parameters.\n",
    "- Return Value from isidentifier()\n",
    "- The isidentifier() method returns:\n",
    "- True if the string is a valid identifier\n",
    "- False if the string is not a invalid identifier\n"
   ]
  },
  {
   "cell_type": "code",
   "execution_count": 44,
   "id": "f3a45166",
   "metadata": {},
   "outputs": [
    {
     "name": "stdout",
     "output_type": "stream",
     "text": [
      "True\n",
      "False\n",
      "False\n",
      "False\n"
     ]
    }
   ],
   "source": [
    "str = 'Python'\n",
    "print(str.isidentifier())\n",
    "str = 'Py thon'\n",
    "print(str.isidentifier())\n",
    "str = '22Python'\n",
    "print(str.isidentifier())\n",
    "str = ''\n",
    "print(str.isidentifier())"
   ]
  },
  {
   "cell_type": "markdown",
   "id": "42ddd814",
   "metadata": {},
   "source": [
    "# 42. isprintable()\n",
    "- The isprintable() method returns True if all characters in the string are printable. If not, it returns False.\n",
    "##### syntax- string.isprintable()\n",
    "- Here, isprintable() checks if string is printable or not.\n",
    "\n",
    "- \"Note:Characters that occupy printing space on the screen are known as printable characters. For example letters and symbols, digits, punctuation, whitespace\n",
    "- Characters that do not occupy a space and are used for formatting is known as non-printable characters. For example line breaks, page breaks\"\n",
    "\n",
    "- isprintable() Parameters\n",
    "- The isprintable() method doesn't take any parameters.\n",
    "\n",
    "- isprintable() Return Value\n",
    "- The isprintable() method returns:\n",
    "\n",
    "- True - if all characters in the string are printable\n",
    "- False - if the string contains at least one non-printable character\n"
   ]
  },
  {
   "cell_type": "code",
   "execution_count": 47,
   "id": "65551aac",
   "metadata": {},
   "outputs": [
    {
     "name": "stdout",
     "output_type": "stream",
     "text": [
      "True\n",
      "False\n",
      "True\n"
     ]
    }
   ],
   "source": [
    "text1 = 'python programming'\n",
    "\n",
    "# checks if text1 is printable \n",
    "result1 = text1.isprintable()\n",
    "print(result1)\n",
    "\n",
    "text2 = 'python programming\\n'\n",
    "\n",
    "# checks if text2 is printable \n",
    "result2 = text2.isprintable() \n",
    "print(result2)\n",
    "\n",
    "#sprintable() with Empty String\n",
    "#The isprintable() method returns True when we pass an empty string. For example,\n",
    "\n",
    "empty_string = ' '# returns True with an empty string \n",
    "print(empty_string.isprintable())"
   ]
  },
  {
   "cell_type": "code",
   "execution_count": null,
   "id": "2e378f38",
   "metadata": {},
   "outputs": [],
   "source": []
  }
 ],
 "metadata": {
  "kernelspec": {
   "display_name": "Python 3 (ipykernel)",
   "language": "python",
   "name": "python3"
  },
  "language_info": {
   "codemirror_mode": {
    "name": "ipython",
    "version": 3
   },
   "file_extension": ".py",
   "mimetype": "text/x-python",
   "name": "python",
   "nbconvert_exporter": "python",
   "pygments_lexer": "ipython3",
   "version": "3.11.3"
  }
 },
 "nbformat": 4,
 "nbformat_minor": 5
}
