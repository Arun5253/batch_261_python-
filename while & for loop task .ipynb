{
 "cells": [
  {
   "cell_type": "markdown",
   "id": "5b7cad47",
   "metadata": {},
   "source": [
    "1. When resistors are connected together in series, the same current passes through each resistor in the chain and the total resistance, RT, of the circuit must be equal to the sum of all the individual resistors added together.That is:RT = R1 + R2 + R3 ... Create a function that takes an array of values resistance that are connected in series, and calculates the total resistance of the circuit in ohms. The ohm is the standard unit of electrical resistance in the International System of Units ( SI )"
   ]
  },
  {
   "cell_type": "code",
   "execution_count": 32,
   "id": "81033e23",
   "metadata": {},
   "outputs": [
    {
     "name": "stdout",
     "output_type": "stream",
     "text": [
      "Total resistance using while loop: 16\n",
      "Total resistance using for loop: 16\n"
     ]
    }
   ],
   "source": [
    "# Resistors connected in series (example values)\n",
    "R = [1,2,5,8]  # Replace with your own list of resistor values\n",
    "TR = 0  # using while calculate  1/Rt = 1/R1 + 1/R2 + 1/R3 +......1/Rn to \n",
    "i = 0\n",
    "while i < len(R):\n",
    "    TR+= R[i]\n",
    "    i+= 1\n",
    "print(\"Total resistance using while loop:\", TR)\n",
    "\n",
    "# Calculate total resistance using for loop\n",
    "RT_for = 0\n",
    "for resistor in R:\n",
    "    RT_for += resistor\n",
    "\n",
    "print(\"Total resistance using for loop:\", RT_for)"
   ]
  },
  {
   "cell_type": "markdown",
   "id": "9edf737e",
   "metadata": {},
   "source": [
    "2. Create a function which concatenates the number 7 to the end of every chord in a list. Ignore all chords which already end with 7"
   ]
  },
  {
   "cell_type": "code",
   "execution_count": 44,
   "id": "4f171e14",
   "metadata": {},
   "outputs": [
    {
     "name": "stdout",
     "output_type": "stream",
     "text": [
      "Jazzified list using while loop: ['G7', 'C7', 'Dm7', 'Am7', 'Em7', 'F#7', 'A$RUn7']\n",
      "Jazzified list using for loop: ['G7', 'C7', 'Dm7', 'Am7', 'Em7', 'F#7', 'A$RUn7']\n"
     ]
    }
   ],
   "source": [
    "lst = [\"G\", \"C7\", \"Dm7\", \"Am\", \"Em7\", \"F#\",\"A$RUn7\"]\n",
    "concatenate = []\n",
    "i = 0\n",
    "# Using while loop to jazzify \n",
    "while i < len(lst):\n",
    "    if lst[i][-1] == \"7\":   # it checks for each character in list ending with \"7\" \n",
    "        concatenate.append(lst[i])\n",
    "    else:\n",
    "        concatenate.append(lst[i] + \"7\")\n",
    "    i+= 1\n",
    "print(\"Jazzified list using while loop:\", concatenate)\n",
    "\n",
    "# Reset concatenate for the next loop\n",
    "concatenate = []\n",
    "for chord in lst: # Using for loop to jazzify the var\n",
    "    if  chord[-1] == \"7\":\n",
    "        concatenate.append( chord)\n",
    "    else:\n",
    "        concatenate.append( chord + \"7\")\n",
    "print(\"Jazzified list using for loop:\", concatenate)"
   ]
  },
  {
   "cell_type": "markdown",
   "id": "22b540b4",
   "metadata": {},
   "source": [
    "3. Create a function that returns a base-2 (binary) representation of a base-10 (decimal) string number. To convert is simple: ((2) means base-2 and (10) means base-10) 010101001(2) = 1 + 8 + 32 + 128. Going from right to left, the value of the most right bit is 1, now from that every bit to the left will be x2 the value, value of an 8 bit binary numbers are (256, 128, 64, 32, 16, 8, 4, 2, 1)................... hint -- 8,4,2,1"
   ]
  },
  {
   "cell_type": "code",
   "execution_count": 71,
   "id": "9cb31d9c",
   "metadata": {},
   "outputs": [
    {
     "name": "stdout",
     "output_type": "stream",
     "text": [
      "enter a number15\n",
      "1111"
     ]
    }
   ],
   "source": [
    "n = int(input(\"enter a number\"))\n",
    "l = list()\n",
    "while n!=0:\n",
    "    r = n%2\n",
    "    l.append(r)\n",
    "    n=n//2\n",
    "l.reverse()\n",
    "for ele in l:\n",
    "    print(ele,end=\"\")"
   ]
  },
  {
   "cell_type": "markdown",
   "id": "30a67f85",
   "metadata": {},
   "source": [
    "4. Create a function that takes a string and returns the number (count) of vowels contained within it.\n"
   ]
  },
  {
   "cell_type": "code",
   "execution_count": 60,
   "id": "6f47b4f8",
   "metadata": {},
   "outputs": [
    {
     "name": "stdout",
     "output_type": "stream",
     "text": [
      "enter a string :deppthi\n",
      "2\n"
     ]
    }
   ],
   "source": [
    "string = input('enter a string :')\n",
    "vowels = ['a','e','i','o','u']\n",
    "total = 0\n",
    "for s in string:\n",
    "    if s in vowels:\n",
    "        total += 1\n",
    "print(total)"
   ]
  },
  {
   "cell_type": "code",
   "execution_count": 68,
   "id": "38a9eb95",
   "metadata": {},
   "outputs": [
    {
     "name": "stdout",
     "output_type": "stream",
     "text": [
      "enter a string :asdfghjk\n",
      "1\n"
     ]
    }
   ],
   "source": [
    "string = input('enter a string :')\n",
    "vowels = ['a','e','i','o','u']\n",
    "total = 0\n",
    "i=0\n",
    "while i<len(string):\n",
    "    if string[i] in vowels:\n",
    "        total += 1\n",
    "    i+=1    \n",
    "print(total)"
   ]
  },
  {
   "cell_type": "markdown",
   "id": "8fe42304",
   "metadata": {},
   "source": [
    "5. Create a function that takes a list and finds the integer which appears an odd number of times"
   ]
  },
  {
   "cell_type": "code",
   "execution_count": 80,
   "id": "221a74b6",
   "metadata": {},
   "outputs": [
    {
     "name": "stdout",
     "output_type": "stream",
     "text": [
      "Numbers appearing odd number of times: [-3, -1, -2]\n"
     ]
    }
   ],
   "source": [
    "list = [1, 1, 2, -3, 5, 2, 4, 4, -1, 5,-2]\n",
    "count = {}  # Empty dictionary to store the count of each number\n",
    "i = 0\n",
    "while i < len(list):\n",
    "    num = list[i]\n",
    "    if num in count:\n",
    "        count[num] += 1\n",
    "    else:\n",
    "        count[num] = 1\n",
    "    i += 1\n",
    "oddnumbers = []\n",
    "for num, count in count.items():\n",
    "    if count % 2 != 0:\n",
    "        oddnumbers.append(num)\n",
    "print(\"Numbers appearing odd number of times:\", oddnumbers)\n"
   ]
  },
  {
   "cell_type": "markdown",
   "id": "918d2720",
   "metadata": {},
   "source": [
    "6. Hamming distance is the number of characters that differ between two strings."
   ]
  },
  {
   "cell_type": "code",
   "execution_count": 11,
   "id": "a524f251",
   "metadata": {},
   "outputs": [
    {
     "name": "stdout",
     "output_type": "stream",
     "text": [
      "While output : 2\n",
      "For output: 2\n"
     ]
    }
   ],
   "source": [
    "str1 = 'abcddeA' \n",
    "str2= 'abcdbeB'\n",
    "d = 0 ## Hamming distance d= 0\n",
    "i = 0\n",
    "while i < len(str1) and i < len(str2):\n",
    "    if str1[i] != str2[i]:\n",
    "        d += 1\n",
    "    i += 1\n",
    "print(\"While output :\", d)\n",
    "d=0 #reset to zero to start the count fresh for the calculation using the for Loop.\n",
    "for j in range(min(len(str1), len(str2))): \n",
    "    if str1[j]!= str2[j]:\n",
    "        d += 1\n",
    "print(\"For output:\",d)"
   ]
  },
  {
   "cell_type": "markdown",
   "id": "8162d3f3",
   "metadata": {},
   "source": [
    "7 or 8. Create a function that takes an array of non-negative integers and strings and return a new array without the strings"
   ]
  },
  {
   "cell_type": "code",
   "execution_count": 21,
   "id": "6510a21a",
   "metadata": {},
   "outputs": [
    {
     "name": "stdout",
     "output_type": "stream",
     "text": [
      "while new_list: [1, 3, 5, 7]\n",
      "for new_list: [1, 3, 5, 7]\n"
     ]
    }
   ],
   "source": [
    "list = [1, 'Arun', 3, 'kranthi', 5, 7, 'ramesh']\n",
    "num_list = []\n",
    "i = 0\n",
    "while i < len(list):\n",
    "    item = list[i]\n",
    "    if type(item) == int:\n",
    "        num_list.append(item)\n",
    "    i += 1\n",
    "print(\"while new_list:\",num_list)\n",
    "empty_list = [] # Reset the output_list before using the for loop\n",
    "for item in list:\n",
    "    if type(item) == int:\n",
    "        empty_list.append(item)\n",
    "print(\"for new_list:\",empty_list)\n"
   ]
  },
  {
   "cell_type": "markdown",
   "id": "526f8953",
   "metadata": {},
   "source": [
    "9. Given a list of numbers, create a function which returns the list but with each element's index in the list added to itself. This means you add 0 to the number at index 0, add 1 to the number at index 1, etc"
   ]
  },
  {
   "cell_type": "code",
   "execution_count": 34,
   "id": "c26ce1d6",
   "metadata": {},
   "outputs": [
    {
     "name": "stdout",
     "output_type": "stream",
     "text": [
      "Old List: [2, 4, 6, 8, 10]\n",
      "New List (using while loop): [2, 5, 8, 11, 14]\n",
      "Old List: [2, 4, 6, 8, 10]\n",
      "New List (using for loop): [2, 5, 8, 11, 14]\n"
     ]
    }
   ],
   "source": [
    "num1_list = [2, 4,6, 8, 10]\n",
    "i = 0\n",
    "print(\"Old List:\", num1_list)\n",
    "while i < len(num1_list):\n",
    "    num1_list[i] += i\n",
    "    i += 1\n",
    "print(\"New List (using while loop):\", num1_list)\n",
    "num1_list = [2, 4,6, 8, 10]\n",
    "print(\"Old List:\", num1_list)\n",
    "for i in range(len(num1_list)):\n",
    "    num1_list[i] += i\n",
    "print(\"New List (using for loop):\", num1_list)\n"
   ]
  },
  {
   "cell_type": "markdown",
   "id": "45be5d49",
   "metadata": {},
   "source": [
    "10. This Triangular Number Sequence is generated from a pattern of dots that form a triangle. The first 5 numbers of the sequence, or dots, are 1, 3, 6, 10, 15 .This means that the first triangle has just one dot, the second one has three dots, the third one has 6 dots and so on."
   ]
  },
  {
   "cell_type": "code",
   "execution_count": 44,
   "id": "9e292952",
   "metadata": {},
   "outputs": [
    {
     "name": "stdout",
     "output_type": "stream",
     "text": [
      "1st Triangular Number: 1\n",
      "2st Triangular Number: 3\n",
      "3st Triangular Number: 6\n",
      "4st Triangular Number: 10\n",
      "5st Triangular Number: 15\n",
      "1st Triangular Number: 1\n",
      "2st Triangular Number: 3\n",
      "3st Triangular Number: 6\n",
      "4st Triangular Number: 10\n",
      "5st Triangular Number: 15\n"
     ]
    }
   ],
   "source": [
    "n = 1\n",
    "count = 1\n",
    "while count <= 5: \n",
    "    triangular_number = (n * (n + 1)) // 2   # formula to calculate nth term\n",
    "    print(f\"{count}st Triangular Number:\", triangular_number)\n",
    "    n += 1\n",
    "    count += 1\n",
    "\n",
    "# Using for loop\n",
    "count = 1\n",
    "for n in range(1, 6):\n",
    "    triangular_number = (n * (n + 1)) // 2\n",
    "    print(f\"{count}st Triangular Number:\", triangular_number)\n",
    "    count += 1\n"
   ]
  },
  {
   "cell_type": "markdown",
   "id": "fabb41bc",
   "metadata": {},
   "source": [
    "11. In BlackJack, cards are counted with -1, 0, 1 values:\n",
    "\n",
    "2, 3, 4, 5, 6 are counted as +1\n",
    "\n",
    "7, 8, 9 are counted as 0\n",
    "\n",
    "10, J, Q, K, A are counted as -1\n",
    "\n",
    "Create a function that counts the number and returns it from the list of cards provided."
   ]
  },
  {
   "cell_type": "code",
   "execution_count": 40,
   "id": "befd3fe4",
   "metadata": {},
   "outputs": [
    {
     "name": "stdout",
     "output_type": "stream",
     "text": [
      "-6\n"
     ]
    }
   ],
   "source": [
    "cards = [\"A\", \"A\", \"K\", \"Q\", \"Q\", \"J\"]\n",
    "card_values = {\"2\": 1, \"3\": 1, \"4\": 1, \"5\": 1, \"6\": 1, \"7\": 0, \"8\": 0, \"9\": 0, \"10\": -1, \"J\": -1, \"Q\": -1, \"K\": -1, \"A\": -1}\n",
    "total_count = 0\n",
    "index = 0\n",
    "while index < len(cards):\n",
    "    card = cards[index]\n",
    "    total_count += card_values.get(str(card), 0)\n",
    "    index += 1\n",
    "\n",
    "print(total_count)\n"
   ]
  },
  {
   "cell_type": "markdown",
   "id": "6cbfdc8c",
   "metadata": {},
   "source": [
    "12. Write a function that takes a list of elements and returns only the integers."
   ]
  },
  {
   "cell_type": "code",
   "execution_count": 45,
   "id": "02579c8a",
   "metadata": {},
   "outputs": [
    {
     "name": "stdout",
     "output_type": "stream",
     "text": [
      "[9, 2, 16]\n"
     ]
    }
   ],
   "source": [
    "elements = [9, 2, \"space\", \"car\", \"lion\", 16]\n",
    "integers = []\n",
    "index = 0\n",
    "while index < len(elements):\n",
    "    if isinstance(elements[index], int):\n",
    "        integers.append(elements[index])\n",
    "    index += 1\n",
    "print(integers)"
   ]
  },
  {
   "cell_type": "markdown",
   "id": "4c8d43e3",
   "metadata": {},
   "source": [
    "13. An isogram is a word that has no duplicate letters. Create a function that takes a string and returns either True or False depending on whether or not it's an \"isogram\"."
   ]
  },
  {
   "cell_type": "code",
   "execution_count": 46,
   "id": "5c8a1639",
   "metadata": {},
   "outputs": [
    {
     "name": "stdout",
     "output_type": "stream",
     "text": [
      "True\n"
     ]
    }
   ],
   "source": [
    "#13\n",
    "s = \"Algorism\"\n",
    "s = s.lower()\n",
    "index = 0\n",
    "is_isogram = True\n",
    "while index < len(s) and is_isogram:\n",
    "    char = s[index]\n",
    "    count = 0\n",
    "    index2 = 0 \n",
    "    while index2 < len(s):\n",
    "        if char == s[index2]:\n",
    "            count += 1\n",
    "        if count > 1:\n",
    "            is_isogram = False\n",
    "            break\n",
    "        index2 += 1\n",
    "    \n",
    "    index += 1\n",
    "\n",
    "if is_isogram:\n",
    "    print(True)\n",
    "else:\n",
    "    print(False)"
   ]
  },
  {
   "cell_type": "markdown",
   "id": "51cd259e",
   "metadata": {},
   "source": [
    "15.A set is a collection of unique items. A set can be formed from a list by removing all duplicate items.\n",
    "\n",
    "[1, 3, 3, 5, 5, 5]\n",
    "\n",
    "#original list\n",
    "\n",
    "[1, 3, 5]\n",
    "\n",
    "original list transformed into a set"
   ]
  },
  {
   "cell_type": "code",
   "execution_count": 43,
   "id": "88caff30",
   "metadata": {},
   "outputs": [
    {
     "name": "stdout",
     "output_type": "stream",
     "text": [
      "[1, 3, 5]\n"
     ]
    },
    {
     "data": {
      "text/plain": [
       "[1, 3, 5]"
      ]
     },
     "execution_count": 43,
     "metadata": {},
     "output_type": "execute_result"
    }
   ],
   "source": [
    "#15\n",
    "# Input list\n",
    "lst = [1, 3, 3, 5, 5]\n",
    "# Remove duplicates and transform the list into a set\n",
    "index = 0\n",
    "while index < len(lst):\n",
    "    element = lst[index]\n",
    "    index2 = index + 1\n",
    "    while index2 < len(lst):\n",
    "        if element == lst[index2]:\n",
    "            lst.pop(index2)\n",
    "        else:\n",
    "            index2 += 1\n",
    "    index += 1\n",
    "\n",
    "# Sort the set into a list in ascending order using the bubble sort algorithm\n",
    "n = len(lst)\n",
    "while n > 1:\n",
    "    index = 0\n",
    "    while index < n - 1:\n",
    "        if lst[index] > lst[index + 1]:\n",
    "            lst[index], lst[index + 1] = lst[index + 1], lst[index]\n",
    "        index += 1\n",
    "    n -= 1\n",
    "\n",
    "# Print the sorted and deduplicated list\n",
    "print(lst)\n",
    "[1, 3, 5]"
   ]
  },
  {
   "cell_type": "code",
   "execution_count": null,
   "id": "2788f4fa",
   "metadata": {},
   "outputs": [],
   "source": []
  }
 ],
 "metadata": {
  "kernelspec": {
   "display_name": "Python 3 (ipykernel)",
   "language": "python",
   "name": "python3"
  },
  "language_info": {
   "codemirror_mode": {
    "name": "ipython",
    "version": 3
   },
   "file_extension": ".py",
   "mimetype": "text/x-python",
   "name": "python",
   "nbconvert_exporter": "python",
   "pygments_lexer": "ipython3",
   "version": "3.11.3"
  }
 },
 "nbformat": 4,
 "nbformat_minor": 5
}
