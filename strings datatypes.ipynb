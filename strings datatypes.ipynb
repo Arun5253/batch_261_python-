{
 "cells": [
  {
   "cell_type": "markdown",
   "id": "ff6ba4cb",
   "metadata": {},
   "source": [
    "# strings datatypes\n",
    "- string is a sequence of characters enclosed within either single quotes (' ') or double quotes (\" \") or\n",
    "  triple quotes(''' '''). \n",
    "- triple quotes are used as multiline strings, multiline comments and as doc strings\n",
    "- It is an immutable data type, which means once a string is created, it cannot be modified. \n",
    "- However, it is possible to create a new string by concatenating two or more strings"
   ]
  },
  {
   "cell_type": "code",
   "execution_count": 2,
   "id": "40aba5e9",
   "metadata": {},
   "outputs": [
    {
     "name": "stdout",
     "output_type": "stream",
     "text": [
      "this is a sting enclosed in a single quote\n",
      "this is a sting enclosed in a double quote\n",
      "this is a sting enclosed in a mutli quote,\n",
      "enclosed in a triple single code\n"
     ]
    },
    {
     "data": {
      "text/plain": [
       "'this is an informative\\nmulti-line comment,\\ncreated by using triple double quotes'"
      ]
     },
     "execution_count": 2,
     "metadata": {},
     "output_type": "execute_result"
    }
   ],
   "source": [
    "# creating string\n",
    "s1 = 'this is a sting enclosed in a single quote'\n",
    "s2 = \"this is a sting enclosed in a double quote\"\n",
    "s3 = '''this is a sting enclosed in a mutli quote,\n",
    "enclosed in a triple single code'''\n",
    "print(s1,s2,s3, sep='\\n')\n",
    "\n",
    "\"\"\"this is an informative\n",
    "multi-line comment,\n",
    "created by using triple double quotes\"\"\""
   ]
  },
  {
   "cell_type": "code",
   "execution_count": 3,
   "id": "6ff02342",
   "metadata": {},
   "outputs": [
    {
     "name": "stdout",
     "output_type": "stream",
     "text": [
      "this cup now belong's ti INDIA\n",
      "this cup now belong's ti INDIA\n"
     ]
    }
   ],
   "source": [
    "# compiler error a = 'this cup now belong's ti INDIA' \n",
    "a= \"this cup now belong's ti INDIA\" # other way to print \n",
    "print(a)\n",
    "b= 'this cup now belong\\'s ti INDIA' # \\ is a escape character \n",
    "print(b)"
   ]
  },
  {
   "cell_type": "markdown",
   "id": "1de022b1",
   "metadata": {},
   "source": [
    "# escape characters\n",
    "- To insert characters that are illegal in a string, use an escape character.\n",
    "\n",
    "- An escape character is a backslash \\ followed by the character you want to insert.\n",
    "- String literals we can use escape character to associate a spl meaning\n",
    "\n",
    "## The following are various important escape characters in Python\n",
    "\n",
    "1) \\n→ New Line\n",
    "\n",
    "2) \\t Horizontal Tab\n",
    "\n",
    "3) \\r→Carriage Return\n",
    "\n",
    "4) \\b Back Space\n",
    "\n",
    "5) \\f Form Feed\n",
    "\n",
    "6) \\v→ Vertical Tab\n",
    "\n",
    "7) \\' →Single Quote\n",
    "\n",
    "8) \\\"→ Double Quote\n",
    "\n",
    "9) \\\\ → Back Slash Symbol"
   ]
  },
  {
   "cell_type": "code",
   "execution_count": 13,
   "id": "beeabf09",
   "metadata": {},
   "outputs": [
    {
     "name": "stdout",
     "output_type": "stream",
     "text": [
      "a\n",
      "\n",
      "a\tb\n",
      "c\n"
     ]
    }
   ],
   "source": [
    "print('a\\n') # new line\n",
    "print('a\\tb')#tab\\ four spaces\n",
    "print('ab\\rc')# moves the cursur to start of the line"
   ]
  },
  {
   "cell_type": "markdown",
   "id": "2dd59588",
   "metadata": {},
   "source": [
    "# Raw-strings and f-strings \n",
    "### raw strings\n",
    "* A raw string in Python is a string literal that is prefixed with the letter r or R.\n",
    "* This tells the Python interpreter to treat the string as a raw string, meaning that escape sequences are not interpreted"
   ]
  },
  {
   "cell_type": "code",
   "execution_count": 15,
   "id": "e49bcdf6",
   "metadata": {},
   "outputs": [
    {
     "name": "stdout",
     "output_type": "stream",
     "text": [
      "c:\u0007bc\n",
      "ewfolder\\j.jpg\n",
      "c:\\abc\\newfolder\\j.jpg\n",
      "c:\\abc\\newfolder\\j.jpg\n"
     ]
    }
   ],
   "source": [
    "# r-strings \n",
    "print('c:\\abc\\newfolder\\j.jpg') # compilers error\n",
    "print('c:\\\\abc\\\\newfolder\\\\j.jpg') # alternative method of printing \n",
    "print(r'c:\\abc\\newfolder\\j.jpg') # usinng r string"
   ]
  },
  {
   "cell_type": "markdown",
   "id": "8f947904",
   "metadata": {},
   "source": [
    "# f-string \n",
    "- f-strings can be used to format strings in a variety of ways. \n",
    "- They can be a convenient way to add variables, expressions, and even dates and times to strings\n",
    " ###  syntax - f\"This is an f-string {var_name} and {var_name}.\""
   ]
  },
  {
   "cell_type": "code",
   "execution_count": 31,
   "id": "9fb345a7",
   "metadata": {},
   "outputs": [
    {
     "name": "stdout",
     "output_type": "stream",
     "text": [
      "the vol of cyl,whose radius is 5 whose h is 7 is 550.0\n",
      "the vol of cyl whose  r and h are 5 and 7 respectively  is 550.0\n"
     ]
    }
   ],
   "source": [
    "r,h = 5,7\n",
    "vol = (22/7)*(r**2)*h\n",
    "print('the vol of cyl,whose radius is', r,'whose h is',h,'is',vol)\n",
    "print(f'the vol of cyl whose  r and h are {r} and {h} respectively  is {vol}')\n"
   ]
  },
  {
   "cell_type": "code",
   "execution_count": 48,
   "id": "746f2842",
   "metadata": {},
   "outputs": [
    {
     "name": "stdout",
     "output_type": "stream",
     "text": [
      "the vol of sphere whose diameter 10,volume will be523.8095238095237 cubic cms\n"
     ]
    }
   ],
   "source": [
    "\n",
    "print(f'the vol of sphere whose diameter {10},volume will be{(22/7)*((10/2)**3)*(4/3)} cubic cms')\n"
   ]
  },
  {
   "cell_type": "code",
   "execution_count": 5,
   "id": "2af41485",
   "metadata": {},
   "outputs": [
    {
     "name": "stdout",
     "output_type": "stream",
     "text": [
      "I'm learning Python from data science .\n"
     ]
    }
   ],
   "source": [
    "language = \"Python\"\n",
    "school = \"data science \"\n",
    "print(f\"I'm learning {language} from {school}.\")"
   ]
  },
  {
   "attachments": {
    "download.jpg": {
     "image/jpeg": "[encoded data removed]"
    }
   },
   "cell_type": "markdown",
   "id": "d2a2efe0",
   "metadata": {},
   "source": [
    "# string in indexing\n",
    "- ### <u> postive indexing </u> - \n",
    "* The first character has an index of 0 ,\n",
    "* the character at position x has an index x - 1 , \n",
    "* the last character in the string has an index of string_length - 1 \n",
    "- ### <u> negative indexing </u>\n",
    "* negative indexing starts at -1 and allows you to access elements from the end of an array, moving backwards. \n",
    "* The final element is located at index -1, the next-to-last at index -2, and so on\n",
    "![download.jpg](attachment:download.jpg)"
   ]
  },
  {
   "cell_type": "code",
   "execution_count": null,
   "id": "3e2ccdb5",
   "metadata": {},
   "outputs": [],
   "source": []
  },
  {
   "cell_type": "code",
   "execution_count": 51,
   "id": "2765ceb6",
   "metadata": {},
   "outputs": [
    {
     "name": "stdout",
     "output_type": "stream",
     "text": [
      "h\n",
      "h\n"
     ]
    }
   ],
   "source": [
    "x= \"Python\"\n",
    "print(x[3]) # postive accesing h \n",
    "print(x[-3])# negative  accessing h"
   ]
  },
  {
   "cell_type": "markdown",
   "id": "424f0651",
   "metadata": {},
   "source": [
    "# slicing  of strings\n",
    "\n",
    "1) slice means a piece\n",
    "\n",
    "2) [] operator is called slice operator, which can be used to retrieve parts of String.\n",
    "\n",
    "3) In Python Strings follows zero based index.\n",
    "\n",
    "4) The index can be either +ve or -ve.\n",
    "\n",
    "5) +ve index means forward direction from Left to Right\n",
    "\n",
    "6) -ve index means backward direction from Right to Left\n",
    "\n",
    "- syntax for slicing \n",
    "\n",
    "  -var[start_index:end_index:step_size]\n",
    "  \n",
    "  -slice(start, stop, step)\n",
    "* arr[start:stop]         # items start through stop-1\n",
    "* arr[start:]             # items start through the rest of the array\n",
    "* arr[:stop]              # items from the beginning through stop-1\n",
    "* arr[:]                  # a copy of the whole array\n",
    "* arr[start:stop:step]    # start through not past stop, by step"
   ]
  },
  {
   "cell_type": "code",
   "execution_count": 56,
   "id": "d9f0c9a2",
   "metadata": {},
   "outputs": [
    {
     "name": "stdout",
     "output_type": "stream",
     "text": [
      "40\n",
      "i am not sur\n",
      "i am not sure what to take as an example\n",
      "ia o uewa otk sa xml\n",
      "i am not sure what to take as an example\n",
      "i am not sure what to take as an example\n",
      "what\n"
     ]
    }
   ],
   "source": [
    "x='i am not sure what to take as an example'\n",
    "\n",
    "print(len(x))\n",
    "print(x[0:12])\n",
    "print(x[0:41])\n",
    "print(x[0:41:2]) #step size 2\n",
    "print(x[0:41:1])\n",
    "print(x[::]) #default values\n",
    "print(x[14:18])"
   ]
  },
  {
   "attachments": {
    "images%20%282%29.png": {
     "image/png": "[encoded data removed]"
    }
   },
   "cell_type": "markdown",
   "id": "b21081a5",
   "metadata": {},
   "source": [
    "# Reverse string '\n",
    "- A slice operator accepts three arguments – start, stop, and step\n",
    "- In this case, we will not provide a start and stop index. \n",
    "- So, the default values will be considered which are start = 0 and stop = n-1. \n",
    "- string in Python using slicing, as [::-1]\n",
    "- The step value will be specified as -1, which means that the string will traverse from the end to the index position 1.\n",
    "   ![images%20%282%29.png](attachment:images%20%282%29.png)"
   ]
  },
  {
   "cell_type": "code",
   "execution_count": 6,
   "id": "4f16e2ef",
   "metadata": {},
   "outputs": [
    {
     "name": "stdout",
     "output_type": "stream",
     "text": [
      "ECAF\n"
     ]
    }
   ],
   "source": [
    "s = \"FACE\" [::-1]\n",
    "print(s)\n",
    " "
   ]
  },
  {
   "attachments": {
    "images%20%283%29.png": {
     "image/png": "[encoded data removed]"
    }
   },
   "cell_type": "markdown",
   "id": "761e6a48",
   "metadata": {},
   "source": [
    "# String concatination \n",
    "- adding 2 values or more![images%20%283%29.png](attachment:images%20%283%29.png)"
   ]
  },
  {
   "cell_type": "code",
   "execution_count": 7,
   "id": "1f718bcb",
   "metadata": {},
   "outputs": [
    {
     "name": "stdout",
     "output_type": "stream",
     "text": [
      "Arunkumar \n",
      "Arun kumar \n",
      "15\n"
     ]
    }
   ],
   "source": [
    "#  to add 2 values  variable   \n",
    "a = \"Arun\"\n",
    "b = \"kumar \"\n",
    "c = a + b\n",
    "print(c)\n",
    "# To add a space between them, add a \" \"\n",
    "a = \"Arun\"\n",
    "b = \"kumar \"\n",
    "c = a + \" \" + b\n",
    "# integer \n",
    "print(c)\n",
    "x = 5\n",
    "y = 10\n",
    "print(x + y)\n",
    "\n"
   ]
  },
  {
   "cell_type": "code",
   "execution_count": 61,
   "id": "b6caafbb",
   "metadata": {},
   "outputs": [
    {
     "name": "stdout",
     "output_type": "stream",
     "text": [
      "hihi\n",
      "hihihihihi\n"
     ]
    }
   ],
   "source": [
    "# sting concatention  -------------- adding 2 values or more\n",
    "x = 'hi'\n",
    "print(x+x) # x+x\n",
    "print (x*5) # x+x+x+x+x"
   ]
  },
  {
   "cell_type": "code",
   "execution_count": null,
   "id": "c0afe6ee",
   "metadata": {},
   "outputs": [],
   "source": []
  },
  {
   "cell_type": "code",
   "execution_count": null,
   "id": "137f2d3a",
   "metadata": {},
   "outputs": [],
   "source": []
  }
 ],
 "metadata": {
  "kernelspec": {
   "display_name": "Python 3 (ipykernel)",
   "language": "python",
   "name": "python3"
  },
  "language_info": {
   "codemirror_mode": {
    "name": "ipython",
    "version": 3
   },
   "file_extension": ".py",
   "mimetype": "text/x-python",
   "name": "python",
   "nbconvert_exporter": "python",
   "pygments_lexer": "ipython3",
   "version": "3.11.3"
  }
 },
 "nbformat": 4,
 "nbformat_minor": 5
}
