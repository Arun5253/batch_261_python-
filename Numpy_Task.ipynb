{
 "cells": [
  {
   "cell_type": "markdown",
   "id": "24cd1ff1",
   "metadata": {},
   "source": [
    " 1.Write a function, foo_1, that takes a NumPy array `arr` and returns the indices of the elements that are closest to a given target. If target is not in the given array, it should return ‘no item found’\n"
   ]
  },
  {
   "cell_type": "code",
   "execution_count": 1,
   "id": "4bd68bec",
   "metadata": {},
   "outputs": [
    {
     "name": "stdout",
     "output_type": "stream",
     "text": [
      "[2 3 4 5 6 8 1 7 0 9]\n"
     ]
    }
   ],
   "source": [
    "#1\n",
    "import numpy as np\n",
    "\n",
    "def foo_1(arr, target):\n",
    "    indices = np.argsort(np.abs(arr - target)) \n",
    "    if arr[indices[0]] == target:\n",
    "        return indices\n",
    "    else:\n",
    "        return 'no item found'\n",
    "arr1 = np.array([3, 8, 7, 7, 7, 7, 7, 8, 7, 101])\n",
    "target1 = 7\n",
    "output1 = foo_1(arr1, target1)\n",
    "print(output1)\n",
    "\n"
   ]
  },
  {
   "cell_type": "code",
   "execution_count": 2,
   "id": "7531930d",
   "metadata": {},
   "outputs": [
    {
     "name": "stdout",
     "output_type": "stream",
     "text": [
      "no item found\n"
     ]
    }
   ],
   "source": [
    "arr2 = np.array([3, 8, 7, 7, 7, 7, 7, 8, 7, 101])\n",
    "target2 = 11\n",
    "output2 = foo_1(arr2, target2)\n",
    "print(output2)"
   ]
  },
  {
   "cell_type": "markdown",
   "id": "68404766",
   "metadata": {},
   "source": [
    "3.1 You are given a 2D NumPy array of data representing student scores. Each row represents a student, and each column represents a subject. Extract the scores of all students who scored above 90 in at least one subject. Provide the resulting array.\n"
   ]
  },
  {
   "cell_type": "code",
   "execution_count": 7,
   "id": "40a4539c",
   "metadata": {},
   "outputs": [
    {
     "name": "stdout",
     "output_type": "stream",
     "text": [
      "[[78 89 94]\n",
      " [91 87 90]\n",
      " [87 95 84]]\n"
     ]
    }
   ],
   "source": [
    "#3.1\n",
    "data = np.array([[85, 89, 88],\n",
    "                 [78, 89, 94],\n",
    "                 [91, 87, 90],\n",
    "                 [87, 95, 84]])\n",
    "\n",
    "above_90 = data[(data > 90).any(axis=1)]\n",
    "print(above_90)"
   ]
  },
  {
   "cell_type": "markdown",
   "id": "1d3282d4",
   "metadata": {},
   "source": [
    "3.2 You are provided with a 2D NumPy array of data representing sales data for different products. Each row corresponds to a product, and each column represents the monthly sales for a specific month. Calculate the following statistics for each product: mean, median, standard deviation, and the month with the highest sales.\n"
   ]
  },
  {
   "cell_type": "code",
   "execution_count": 8,
   "id": "b0a12b26",
   "metadata": {},
   "outputs": [
    {
     "name": "stdout",
     "output_type": "stream",
     "text": [
      "Mean values: [127.5  212.5   98.75 310.  ]\n",
      "Median values: [125.  210.   97.5 310. ]\n",
      "Standard deviation values: [14.79019946 25.86020108  7.39509973 22.36067977]\n",
      "Month with the highest sales: [1 3 3 3]\n"
     ]
    }
   ],
   "source": [
    "#3.2\n",
    "data = np.array([[120, 150, 130, 110],\n",
    "                 [200, 180, 220, 250],\n",
    "                 [90, 100, 95, 110],\n",
    "                 [300, 280, 320, 340]])\n",
    "mean_values = np.mean(data, axis=1)\n",
    "median_values = np.median(data, axis=1)\n",
    "std_dev_values = np.std(data, axis=1)\n",
    "max_month_indices = np.argmax(data, axis=1)\n",
    "\n",
    "print(\"Mean values:\", mean_values)\n",
    "print(\"Median values:\", median_values)\n",
    "print(\"Standard deviation values:\", std_dev_values)\n",
    "print(\"Month with the highest sales:\", max_month_indices)\n"
   ]
  },
  {
   "cell_type": "markdown",
   "id": "5789364e",
   "metadata": {},
   "source": [
    "3.3 Create a NumPy array of size 1000 with random integers between 1 and 100. Then, use NumPy functions to find the top 10 most frequently occurring values in the array.\n"
   ]
  },
  {
   "cell_type": "code",
   "execution_count": 9,
   "id": "0f2dbe24",
   "metadata": {},
   "outputs": [
    {
     "name": "stdout",
     "output_type": "stream",
     "text": [
      "Top 10 most frequently occurring values: [ 1 69 64 91 88  7 18 56 98 30]\n"
     ]
    }
   ],
   "source": [
    "#3.3\n",
    "random_array = np.random.randint(1, 101, size=1000)\n",
    "top_10_values, top_10_counts = np.unique(random_array, return_counts=True)\n",
    "sorted_indices = np.argsort(top_10_counts)[::-1]\n",
    "result = top_10_values[sorted_indices[:10]]\n",
    "\n",
    "print(\"Top 10 most frequently occurring values:\", result)\n"
   ]
  },
  {
   "cell_type": "markdown",
   "id": "6e98658d",
   "metadata": {},
   "source": [
    "2. Write a user defined function foo_2 that takes a 1 or 2 dim NumPy array arr and returns a new n-1 dim array, where each element is replaced by the count of non-zero elements wrt axis.\n"
   ]
  },
  {
   "cell_type": "code",
   "execution_count": null,
   "id": "fa31083c",
   "metadata": {},
   "outputs": [],
   "source": []
  }
 ],
 "metadata": {
  "kernelspec": {
   "display_name": "Python 3 (ipykernel)",
   "language": "python",
   "name": "python3"
  },
  "language_info": {
   "codemirror_mode": {
    "name": "ipython",
    "version": 3
   },
   "file_extension": ".py",
   "mimetype": "text/x-python",
   "name": "python",
   "nbconvert_exporter": "python",
   "pygments_lexer": "ipython3",
   "version": "3.11.3"
  }
 },
 "nbformat": 4,
 "nbformat_minor": 5
}
