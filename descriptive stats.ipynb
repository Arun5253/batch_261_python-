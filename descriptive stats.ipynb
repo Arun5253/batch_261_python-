{
 "cells": [
  {
   "cell_type": "code",
   "execution_count": 7,
   "id": "e9f71c22",
   "metadata": {},
   "outputs": [
    {
     "data": {
      "text/html": [
       "<div>\n",
       "<style scoped>\n",
       "    .dataframe tbody tr th:only-of-type {\n",
       "        vertical-align: middle;\n",
       "    }\n",
       "\n",
       "    .dataframe tbody tr th {\n",
       "        vertical-align: top;\n",
       "    }\n",
       "\n",
       "    .dataframe thead th {\n",
       "        text-align: right;\n",
       "    }\n",
       "</style>\n",
       "<table border=\"1\" class=\"dataframe\">\n",
       "  <thead>\n",
       "    <tr style=\"text-align: right;\">\n",
       "      <th></th>\n",
       "      <th>Id</th>\n",
       "      <th>SepalLengthCm</th>\n",
       "      <th>SepalWidthCm</th>\n",
       "      <th>PetalLengthCm</th>\n",
       "      <th>PetalWidthCm</th>\n",
       "      <th>Species</th>\n",
       "    </tr>\n",
       "  </thead>\n",
       "  <tbody>\n",
       "    <tr>\n",
       "      <th>0</th>\n",
       "      <td>1</td>\n",
       "      <td>5.1</td>\n",
       "      <td>3.5</td>\n",
       "      <td>1.4</td>\n",
       "      <td>0.2</td>\n",
       "      <td>Iris-setosa</td>\n",
       "    </tr>\n",
       "    <tr>\n",
       "      <th>1</th>\n",
       "      <td>2</td>\n",
       "      <td>4.9</td>\n",
       "      <td>3.0</td>\n",
       "      <td>1.4</td>\n",
       "      <td>0.2</td>\n",
       "      <td>Iris-setosa</td>\n",
       "    </tr>\n",
       "    <tr>\n",
       "      <th>2</th>\n",
       "      <td>3</td>\n",
       "      <td>4.7</td>\n",
       "      <td>3.2</td>\n",
       "      <td>1.3</td>\n",
       "      <td>0.2</td>\n",
       "      <td>Iris-setosa</td>\n",
       "    </tr>\n",
       "    <tr>\n",
       "      <th>3</th>\n",
       "      <td>4</td>\n",
       "      <td>4.6</td>\n",
       "      <td>3.1</td>\n",
       "      <td>1.5</td>\n",
       "      <td>0.2</td>\n",
       "      <td>Iris-setosa</td>\n",
       "    </tr>\n",
       "    <tr>\n",
       "      <th>4</th>\n",
       "      <td>5</td>\n",
       "      <td>5.0</td>\n",
       "      <td>3.6</td>\n",
       "      <td>1.4</td>\n",
       "      <td>0.2</td>\n",
       "      <td>Iris-setosa</td>\n",
       "    </tr>\n",
       "    <tr>\n",
       "      <th>...</th>\n",
       "      <td>...</td>\n",
       "      <td>...</td>\n",
       "      <td>...</td>\n",
       "      <td>...</td>\n",
       "      <td>...</td>\n",
       "      <td>...</td>\n",
       "    </tr>\n",
       "    <tr>\n",
       "      <th>145</th>\n",
       "      <td>146</td>\n",
       "      <td>6.7</td>\n",
       "      <td>3.0</td>\n",
       "      <td>5.2</td>\n",
       "      <td>2.3</td>\n",
       "      <td>Iris-virginica</td>\n",
       "    </tr>\n",
       "    <tr>\n",
       "      <th>146</th>\n",
       "      <td>147</td>\n",
       "      <td>6.3</td>\n",
       "      <td>2.5</td>\n",
       "      <td>5.0</td>\n",
       "      <td>1.9</td>\n",
       "      <td>Iris-virginica</td>\n",
       "    </tr>\n",
       "    <tr>\n",
       "      <th>147</th>\n",
       "      <td>148</td>\n",
       "      <td>6.5</td>\n",
       "      <td>3.0</td>\n",
       "      <td>5.2</td>\n",
       "      <td>2.0</td>\n",
       "      <td>Iris-virginica</td>\n",
       "    </tr>\n",
       "    <tr>\n",
       "      <th>148</th>\n",
       "      <td>149</td>\n",
       "      <td>6.2</td>\n",
       "      <td>3.4</td>\n",
       "      <td>5.4</td>\n",
       "      <td>2.3</td>\n",
       "      <td>Iris-virginica</td>\n",
       "    </tr>\n",
       "    <tr>\n",
       "      <th>149</th>\n",
       "      <td>150</td>\n",
       "      <td>5.9</td>\n",
       "      <td>3.0</td>\n",
       "      <td>5.1</td>\n",
       "      <td>1.8</td>\n",
       "      <td>Iris-virginica</td>\n",
       "    </tr>\n",
       "  </tbody>\n",
       "</table>\n",
       "<p>150 rows × 6 columns</p>\n",
       "</div>"
      ],
      "text/plain": [
       "      Id  SepalLengthCm  SepalWidthCm  PetalLengthCm  PetalWidthCm  \\\n",
       "0      1            5.1           3.5            1.4           0.2   \n",
       "1      2            4.9           3.0            1.4           0.2   \n",
       "2      3            4.7           3.2            1.3           0.2   \n",
       "3      4            4.6           3.1            1.5           0.2   \n",
       "4      5            5.0           3.6            1.4           0.2   \n",
       "..   ...            ...           ...            ...           ...   \n",
       "145  146            6.7           3.0            5.2           2.3   \n",
       "146  147            6.3           2.5            5.0           1.9   \n",
       "147  148            6.5           3.0            5.2           2.0   \n",
       "148  149            6.2           3.4            5.4           2.3   \n",
       "149  150            5.9           3.0            5.1           1.8   \n",
       "\n",
       "            Species  \n",
       "0       Iris-setosa  \n",
       "1       Iris-setosa  \n",
       "2       Iris-setosa  \n",
       "3       Iris-setosa  \n",
       "4       Iris-setosa  \n",
       "..              ...  \n",
       "145  Iris-virginica  \n",
       "146  Iris-virginica  \n",
       "147  Iris-virginica  \n",
       "148  Iris-virginica  \n",
       "149  Iris-virginica  \n",
       "\n",
       "[150 rows x 6 columns]"
      ]
     },
     "execution_count": 7,
     "metadata": {},
     "output_type": "execute_result"
    }
   ],
   "source": [
    "df = pd.read_csv(r\"C:\\Users\\ARUN KUMAR\\Desktop\\261  & 264\\package 261 & 264\\Iris.csv\")\n",
    "df"
   ]
  },
  {
   "cell_type": "code",
   "execution_count": 60,
   "id": "32ae0f0e",
   "metadata": {},
   "outputs": [],
   "source": [
    "import pandas as pd\n",
    "import numpy as np\n",
    "\n",
    "class DataSetStatistics:\n",
    "    def __init__(self, data):\n",
    "        \"\"\"\n",
    "        Initialize the DataSetStatistics object.\n",
    "\n",
    "        Parameters:\n",
    "        - data (DataFrame): The input DataFrame containing numeric data.\n",
    "        \"\"\"\n",
    "        self.data = data.select_dtypes(include='number')\n",
    "        self.length = len(self.data)\n",
    "\n",
    "    def arithmetic_mean(self, column_name):\n",
    "        \"\"\"\n",
    "        Calculate the arithmetic mean of a given column.\n",
    "\n",
    "        Parameters:\n",
    "        - column_name (str): The name of the column.\n",
    "\n",
    "        Returns:\n",
    "        - float: The arithmetic mean.\n",
    "        \"\"\"\n",
    "        if column_name in self.data.columns:\n",
    "            column_data = self.data[column_name]\n",
    "            numeric_data = pd.to_numeric(column_data, errors='coerce')\n",
    "            valid_numeric_data = numeric_data.dropna()\n",
    "\n",
    "            return np.mean(valid_numeric_data)\n",
    "        else:\n",
    "            return None \n",
    "\n",
    "    def geometric_mean(self, column_name):\n",
    "        \"\"\"\n",
    "        Calculate the geometric mean of a given column.\n",
    "\n",
    "        Parameters:\n",
    "        - column_name (str): The name of the column.\n",
    "\n",
    "        Returns:\n",
    "        - float: The geometric mean.\n",
    "        \"\"\"\n",
    "        if column_name in self.data.columns:\n",
    "            column_data = self.data[column_name]\n",
    "            numeric_data = pd.to_numeric(column_data, errors='coerce')\n",
    "            valid_numeric_data = numeric_data.dropna()\n",
    "            product = np.prod(numeric_data)\n",
    "            return (product ** (1 / len(numeric_data))) if len(numeric_data) > 0 else 0  \n",
    "        else:\n",
    "            return None\n",
    "\n",
    "    def harmonic_mean(self, column_name):\n",
    "        \"\"\"\n",
    "        Calculate the harmonic mean of a given column.\n",
    "\n",
    "        Parameters:\n",
    "        - column_name (str): The name of the column.\n",
    "\n",
    "        Returns:\n",
    "        - float: The harmonic mean.\n",
    "        \"\"\"\n",
    "        if column_name in self.data.columns:\n",
    "            column_data = self.data[column_name]\n",
    "            numeric_data = pd.to_numeric(column_data, errors='coerce')\n",
    "            valid_numeric_data = numeric_data.dropna()\n",
    "\n",
    "            if 0 in numeric_data.values:\n",
    "                return 0  \n",
    "            return len(numeric_data) / sum(1 / num for num in numeric_data) if len(numeric_data) > 0 else 0\n",
    "        else:\n",
    "            return None\n",
    "\n",
    "    def median(self, column_name):\n",
    "        \"\"\"\n",
    "        Calculate the median of a given column.\n",
    "\n",
    "        Parameters:\n",
    "        - column_name (str): The name of the column.\n",
    "\n",
    "        Returns:\n",
    "        - float: The median.\n",
    "        \"\"\"\n",
    "        if column_name in self.data.columns:\n",
    "            column_data = sorted(self.data[column_name])\n",
    "            n = len(column_data)\n",
    "            if n % 2 == 0:\n",
    "                median_value = (column_data[n // 2 - 1] + column_data[n // 2]) / 2\n",
    "            else:\n",
    "                median_value = column_data[n // 2]\n",
    "            return median_value\n",
    "        else:\n",
    "            return None\n",
    "\n",
    "    def variance(self, column_name):\n",
    "        \"\"\"\n",
    "        Calculate the variance of a given column.\n",
    "\n",
    "        Parameters:\n",
    "        - column_name (str): The name of the column.\n",
    "\n",
    "        Returns:\n",
    "        - float: The variance.\n",
    "        \"\"\"\n",
    "        if column_name in self.data.columns:\n",
    "            column_data = self.data[column_name]\n",
    "            numeric_data = pd.to_numeric(column_data, errors='coerce')\n",
    "            valid_numeric_data = numeric_data.dropna()\n",
    "        \n",
    "            mean = self.arithmetic_mean(column_name)  \n",
    "            sum_squared_diff = sum((x - mean) ** 2 for x in numeric_data)  \n",
    "\n",
    "            return sum_squared_diff / len(numeric_data) if len(numeric_data) > 0 else 0  \n",
    "        else:\n",
    "            return None\n",
    "\n",
    "    def mode(self, column_name):\n",
    "        \"\"\"\n",
    "        Calculate the mode of a given column.\n",
    "\n",
    "        Parameters:\n",
    "        - column_name (str): The name of the column.\n",
    "\n",
    "        Returns:\n",
    "        - float: The mode.\n",
    "        \"\"\"\n",
    "        freq = {}\n",
    "        for num in self.data[column_name]:\n",
    "            if num not in freq:\n",
    "                freq[num] = 1\n",
    "            else:\n",
    "                freq[num] += 1\n",
    "        mode_value = max(freq, key=freq.get)\n",
    "        return mode_value\n",
    "\n",
    "    def standard_deviation(self, column_name):\n",
    "        \"\"\"\n",
    "        Calculate the standard deviation of a given column.\n",
    "\n",
    "        Parameters:\n",
    "        - column_name (str): The name of the column.\n",
    "\n",
    "        Returns:\n",
    "        - float: The standard deviation.\n",
    "        \"\"\"\n",
    "        return self.variance(column_name) ** 0.5\n",
    "\n",
    "    def max_value(self, column_name):\n",
    "        \"\"\"\n",
    "        Find the maximum value in a given column.\n",
    "\n",
    "        Parameters:\n",
    "        - column_name (str): The name of the column.\n",
    "\n",
    "        Returns:\n",
    "        - float: The maximum value.\n",
    "        \"\"\"\n",
    "        return max(self.data[column_name])\n",
    "\n",
    "    def min_value(self, column_name):\n",
    "        \"\"\"\n",
    "        Find the minimum value in a given column.\n",
    "\n",
    "        Parameters:\n",
    "        - column_name (str): The name of the column.\n",
    "\n",
    "        Returns:\n",
    "        - float: The minimum value.\n",
    "        \"\"\"\n",
    "        return min(self.data[column_name])\n",
    "\n",
    "    def range_value(self, column_name):\n",
    "        \"\"\"\n",
    "        Calculate the range of a given column.\n",
    "\n",
    "        Parameters:\n",
    "        - column_name (str): The name of the column.\n",
    "\n",
    "        Returns:\n",
    "        - float: The range value.\n",
    "        \"\"\"\n",
    "        max_value = max(self.data[column_name])\n",
    "        min_value = min(self.data[column_name])\n",
    "\n",
    "        range_value = max_value - min_value\n",
    "        return range_value\n",
    "\n",
    "    def iqr(self, column_name):\n",
    "        \"\"\"\n",
    "        Calculate the interquartile range (IQR) of a given column.\n",
    "\n",
    "        Parameters:\n",
    "        - column_name (str): The name of the column.\n",
    "\n",
    "        Returns:\n",
    "        - float: The interquartile range (IQR).\n",
    "        \"\"\"\n",
    "        values = list(self.data[column_name])\n",
    "        n = len(values)\n",
    "        for i in range(n):\n",
    "            for j in range(0, n - i - 1):\n",
    "                if values[j] > values[j + 1]:\n",
    "                    values[j], values[j + 1] = values[j + 1], values[j]\n",
    "\n",
    "        q1_index = n // 4\n",
    "        q3_index = n * 3 // 4\n",
    "\n",
    "        q1 = values[q1_index]\n",
    "        q3 = values[q3_index]\n",
    "\n",
    "        return q3 - q1\n",
    "\n",
    "    def quartiles(self, column_name):\n",
    "        \"\"\"\n",
    "        Calculate the quartiles (Q1, Q2, Q3) of a given column.\n",
    "\n",
    "        Parameters:\n",
    "        - column_name (str): The name of the column.\n",
    "\n",
    "        Returns:\n",
    "        - tuple: Quartiles (Q1, Q2, Q3).\n",
    "        \"\"\"\n",
    "        column = self.data[column_name]\n",
    "        q1_index = len(column) // 4\n",
    "        q2_index = len(column) // 2\n",
    "        q3_index = len(column) * 3 // 4\n",
    "        \n",
    "        q1 = column[q1_index]\n",
    "        q2 = column[q2_index]\n",
    "        q3 = column[q3_index]\n",
    "\n",
    "        return q1, q2, q3\n",
    "\n",
    "    def coefficient_of_range(self, column_name):\n",
    "        \"\"\"\n",
    "        Calculate the coefficient of range of a given column.\n",
    "\n",
    "        Parameters:\n",
    "        - column_name (str): The name of the column.\n",
    "\n",
    "        Returns:\n",
    "        - float: The coefficient of range.\n",
    "        \"\"\"\n",
    "        max_value = max(self.data[column_name])\n",
    "        min_value = min(self.data[column_name])\n",
    "        range_value = max_value - min_value\n",
    "        coefficient_of_range_value = range_value / (max_value + min_value)\n",
    "        return coefficient_of_range_value\n",
    "\n",
    "    def coefficient_of_variation(self, column_name):\n",
    "        \"\"\"\n",
    "        Calculate the coefficient of variation of a given column.\n",
    "\n",
    "        Parameters:\n",
    "        - column_name (str): The name of the column.\n",
    "\n",
    "        Returns:\n",
    "        - float: The coefficient of variation.\n",
    "        \"\"\"\n",
    "        return self.standard_deviation(column_name) / self.arithmetic_mean(column_name)\n",
    "\n",
    "    def coefficient_of_standard_deviation(self, column_name):\n",
    "        \"\"\"\n",
    "        Calculate the coefficient of standard deviation of a given column.\n",
    "\n",
    "        Parameters:\n",
    "        - column_name (str): The name of the column.\n",
    "\n",
    "        Returns:\n",
    "        - float: The coefficient of standard deviation.\n",
    "        \"\"\"\n",
    "        mean = sum(self.data[column_name]) / len(self.data[column_name])\n",
    "        std_dev = (sum((x - mean) ** 2 for x in self.data[column_name]) / len(self.data[column_name])) ** 0.5\n",
    "        max_value = max(self.data[column_name])\n",
    "        min_value = min(self.data[column_name])\n",
    "        range_value = max_value - min_value\n",
    "        coefficient_of_std_dev_value = std_dev / range_value\n",
    "        return coefficient_of_std_dev_value\n",
    "\n",
    "    def covariance(self, column1, column2):\n",
    "        \"\"\"\n",
    "        Calculate the covariance between two columns.\n",
    "\n",
    "        Parameters:\n",
    "        - column1 (str): The name of the first column.\n",
    "        - column2 (str): The name of the second column.\n",
    "        \n",
    "        Returns:\n",
    "        - float: The covariance between the two columns.\n",
    "        \"\"\"\n",
    "        if column1 in self.data.columns and column2 in self.data.columns:\n",
    "            return np.cov(self.data[column1], self.data[column2], ddof=0)[0, 1]\n",
    "        else:\n",
    "            return None\n",
    "\n",
    "    def correlation(self, column1, column2):\n",
    "        \"\"\"\n",
    "        Calculate the correlation coefficient between two columns.\n",
    "\n",
    "        Parameters:\n",
    "        - column1 (str): The name of the first column.\n",
    "        - column2 (str): The name of the second column.\n",
    "\n",
    "        Returns:\n",
    "        - float: The correlation coefficient between the two columns.\n",
    "        \"\"\"\n",
    "        if column1 in self.data.columns and column2 in self.data.columns:\n",
    "            return np.corrcoef(self.data[column1], self.data[column2])[0, 1]\n",
    "        else:\n",
    "            return None\n",
    "\n",
    "statistics = DataSetStatistics(df)\n"
   ]
  },
  {
   "cell_type": "code",
   "execution_count": 43,
   "id": "9d3333d2",
   "metadata": {},
   "outputs": [
    {
     "data": {
      "text/plain": [
       "3.0540000000000003"
      ]
     },
     "execution_count": 43,
     "metadata": {},
     "output_type": "execute_result"
    }
   ],
   "source": [
    "\n",
    "statistics.arithmetic_mean('SepalWidthCm')"
   ]
  },
  {
   "cell_type": "code",
   "execution_count": 44,
   "id": "a9f1680f",
   "metadata": {},
   "outputs": [
    {
     "data": {
      "text/plain": [
       "3.0235822036025914"
      ]
     },
     "execution_count": 44,
     "metadata": {},
     "output_type": "execute_result"
    }
   ],
   "source": [
    "statistics.geometric_mean('SepalWidthCm')\n"
   ]
  },
  {
   "cell_type": "code",
   "execution_count": 45,
   "id": "aec1d0d6",
   "metadata": {},
   "outputs": [
    {
     "data": {
      "text/plain": [
       "2.9931367940540596"
      ]
     },
     "execution_count": 45,
     "metadata": {},
     "output_type": "execute_result"
    }
   ],
   "source": [
    "statistics.harmonic_mean('SepalWidthCm')\n"
   ]
  },
  {
   "cell_type": "code",
   "execution_count": 46,
   "id": "65bd119e",
   "metadata": {},
   "outputs": [
    {
     "data": {
      "text/plain": [
       "3.0"
      ]
     },
     "execution_count": 46,
     "metadata": {},
     "output_type": "execute_result"
    }
   ],
   "source": [
    "statistics.median('SepalWidthCm')"
   ]
  },
  {
   "cell_type": "code",
   "execution_count": 47,
   "id": "645eb5a1",
   "metadata": {},
   "outputs": [
    {
     "data": {
      "text/plain": [
       "0.1867506666666668"
      ]
     },
     "execution_count": 47,
     "metadata": {},
     "output_type": "execute_result"
    }
   ],
   "source": [
    "statistics.variance('SepalWidthCm')\n"
   ]
  },
  {
   "cell_type": "code",
   "execution_count": 48,
   "id": "8840d86c",
   "metadata": {},
   "outputs": [
    {
     "data": {
      "text/plain": [
       "3.0"
      ]
     },
     "execution_count": 48,
     "metadata": {},
     "output_type": "execute_result"
    }
   ],
   "source": [
    "statistics.mode('SepalWidthCm')\n"
   ]
  },
  {
   "cell_type": "code",
   "execution_count": 49,
   "id": "6ffb722a",
   "metadata": {},
   "outputs": [
    {
     "data": {
      "text/plain": [
       "0.43214658007054363"
      ]
     },
     "execution_count": 49,
     "metadata": {},
     "output_type": "execute_result"
    }
   ],
   "source": [
    "statistics.standard_deviation('SepalWidthCm')\n"
   ]
  },
  {
   "cell_type": "code",
   "execution_count": 59,
   "id": "87fb1779",
   "metadata": {},
   "outputs": [
    {
     "data": {
      "text/plain": [
       "4.4"
      ]
     },
     "execution_count": 59,
     "metadata": {},
     "output_type": "execute_result"
    }
   ],
   "source": [
    "statistics.max_value('SepalWidthCm')\n"
   ]
  },
  {
   "cell_type": "code",
   "execution_count": 61,
   "id": "c341fca9",
   "metadata": {},
   "outputs": [
    {
     "data": {
      "text/plain": [
       "2.0"
      ]
     },
     "execution_count": 61,
     "metadata": {},
     "output_type": "execute_result"
    }
   ],
   "source": [
    "statistics.min_value('SepalWidthCm')"
   ]
  },
  {
   "cell_type": "code",
   "execution_count": 52,
   "id": "53154a4a",
   "metadata": {},
   "outputs": [
    {
     "data": {
      "text/plain": [
       "2.4000000000000004"
      ]
     },
     "execution_count": 52,
     "metadata": {},
     "output_type": "execute_result"
    }
   ],
   "source": [
    "statistics.range_value('SepalWidthCm')\n"
   ]
  },
  {
   "cell_type": "code",
   "execution_count": 53,
   "id": "823f043c",
   "metadata": {},
   "outputs": [
    {
     "data": {
      "text/plain": [
       "0.5"
      ]
     },
     "execution_count": 53,
     "metadata": {},
     "output_type": "execute_result"
    }
   ],
   "source": [
    "statistics.iqr('SepalWidthCm')\n"
   ]
  },
  {
   "cell_type": "code",
   "execution_count": 54,
   "id": "8524a004",
   "metadata": {},
   "outputs": [
    {
     "data": {
      "text/plain": [
       "(3.1, 3.0, 3.0)"
      ]
     },
     "execution_count": 54,
     "metadata": {},
     "output_type": "execute_result"
    }
   ],
   "source": [
    "statistics.quartiles('SepalWidthCm')\n"
   ]
  },
  {
   "cell_type": "code",
   "execution_count": 55,
   "id": "14b0ef36",
   "metadata": {},
   "outputs": [
    {
     "data": {
      "text/plain": [
       "0.37500000000000006"
      ]
     },
     "execution_count": 55,
     "metadata": {},
     "output_type": "execute_result"
    }
   ],
   "source": [
    "statistics.coefficient_of_range('SepalWidthCm')\n"
   ]
  },
  {
   "cell_type": "code",
   "execution_count": 56,
   "id": "96c0f4c5",
   "metadata": {},
   "outputs": [
    {
     "data": {
      "text/plain": [
       "0.14150182713508302"
      ]
     },
     "execution_count": 56,
     "metadata": {},
     "output_type": "execute_result"
    }
   ],
   "source": [
    "statistics.coefficient_of_variation('SepalWidthCm')\n"
   ]
  },
  {
   "cell_type": "code",
   "execution_count": 57,
   "id": "afc0ba5c",
   "metadata": {},
   "outputs": [
    {
     "data": {
      "text/plain": [
       "0.18006107502939311"
      ]
     },
     "execution_count": 57,
     "metadata": {},
     "output_type": "execute_result"
    }
   ],
   "source": [
    "statistics.coefficient_of_standard_deviation('SepalWidthCm')\n"
   ]
  },
  {
   "cell_type": "code",
   "execution_count": null,
   "id": "bc913ce6",
   "metadata": {},
   "outputs": [],
   "source": []
  },
  {
   "cell_type": "code",
   "execution_count": null,
   "id": "c3e8381e",
   "metadata": {},
   "outputs": [],
   "source": []
  },
  {
   "cell_type": "code",
   "execution_count": null,
   "id": "437debbe",
   "metadata": {},
   "outputs": [],
   "source": []
  }
 ],
 "metadata": {
  "kernelspec": {
   "display_name": "Python 3 (ipykernel)",
   "language": "python",
   "name": "python3"
  },
  "language_info": {
   "codemirror_mode": {
    "name": "ipython",
    "version": 3
   },
   "file_extension": ".py",
   "mimetype": "text/x-python",
   "name": "python",
   "nbconvert_exporter": "python",
   "pygments_lexer": "ipython3",
   "version": "3.11.3"
  }
 },
 "nbformat": 4,
 "nbformat_minor": 5
}
