{
 "cells": [
  {
   "cell_type": "markdown",
   "id": "f94cb2f8",
   "metadata": {},
   "source": [
    "1. Write a Python program that asks the user for their age and prints \"You are an adult\" if the age is 18 or older, otherwise prints \"You are a minor'"
   ]
  },
  {
   "cell_type": "code",
   "execution_count": 17,
   "id": "1c8cfd2f",
   "metadata": {},
   "outputs": [
    {
     "name": "stdout",
     "output_type": "stream",
     "text": [
      "Please enter your age: 17\n",
      "You are a minor\n"
     ]
    }
   ],
   "source": [
    "age = int(input(\"Please enter your age: \"))\n",
    "if age >= 18:   # this  if check the age is >=18 \n",
    "    print(\"You are an adult\")  # prints the statement  if the age is above >=18\n",
    "else:  # if age is below <=18 then  returns to else  condition block\n",
    "    print(\"You are a minor\") # print the stateme if age is <=18\n"
   ]
  },
  {
   "cell_type": "markdown",
   "id": "a7af796a",
   "metadata": {},
   "source": [
    "2.Write a program that takes a numerical grade (out of 100) as input and prints the corresponding letter grade according to the following scale:\n",
    " 90-100: A\n",
    " 80-89: B\n",
    " 70-79: C\n",
    " 60-69: D\n",
    " Below 60: F\n"
   ]
  },
  {
   "cell_type": "code",
   "execution_count": 24,
   "id": "4d53eefa",
   "metadata": {},
   "outputs": [
    {
     "name": "stdout",
     "output_type": "stream",
     "text": [
      "Enter your numerical grade (out of 100): 50\n",
      "F\n"
     ]
    }
   ],
   "source": [
    "# Taking the numerical grade as input from the user\n",
    "grade = int(input(\"Enter your numerical grade (out of 100): \"))\n",
    "if grade >=90: \n",
    "    print(\"A\")\n",
    "elif grade >= 80: \n",
    "    print(\"B\")\n",
    "elif grade >= 70:\n",
    "    print(\"C\")\n",
    "elif grade >= 60:\n",
    "    print(\"D\")\n",
    "else:\n",
    "    print(\"F\")\n",
    "\n"
   ]
  },
  {
   "cell_type": "markdown",
   "id": "7f7ee10a",
   "metadata": {},
   "source": [
    "3.Write a program that calculates the Body Mass Index (BMI) of a person. The user should input their weight in kilograms and height in meters. The program should then print whether the person is underweight, normal weight, overweight, or obese\n"
   ]
  },
  {
   "cell_type": "code",
   "execution_count": 82,
   "id": "4dc90113",
   "metadata": {},
   "outputs": [
    {
     "name": "stdout",
     "output_type": "stream",
     "text": [
      "enter Wt in KG100\n",
      "enter Ht in M2.25\n",
      "obese\n"
     ]
    }
   ],
   "source": [
    "weight = float(input(\"enter Wt in KG\"))\n",
    "height = float(input(\"enter Ht in M\"))\n",
    "bmi = weight/(height*height)\n",
    "if bmi <18.5:\n",
    "    print(\"underweight\")\n",
    "elif bmi in range(18,24):\n",
    "    print(\"normal weight\")\n",
    "elif bmi in range(25,29):\n",
    "    print(\"over weight\")\n",
    "else:\n",
    "    print(\"obese\")\n",
    "\n",
    "\n",
    "    "
   ]
  },
  {
   "cell_type": "markdown",
   "id": "99332bbd",
   "metadata": {},
   "source": [
    "4.Write a program that asks the user for three numbers and prints the maximum of the three."
   ]
  },
  {
   "cell_type": "code",
   "execution_count": 30,
   "id": "a00d1530",
   "metadata": {},
   "outputs": [
    {
     "name": "stdout",
     "output_type": "stream",
     "text": [
      "Enter the first number: 20\n",
      "Enter the second number: 56\n",
      "Enter the third number: 10\n",
      "The maximum number among 20 56 10 is: 56\n"
     ]
    }
   ],
   "source": [
    "# Ask the user to input three numbers\n",
    "a = int(input(\"Enter the first number: \"))\n",
    "b = int(input(\"Enter the second number: \"))\n",
    "c = int(input(\"Enter the third number: \"))\n",
    "\n",
    "# Check for the maximum number using conditional statements\n",
    "if a >= b and a >=c:\n",
    "    max_number = a\n",
    "elif b >=a and b >= c:\n",
    "    max_number = b\n",
    "else:\n",
    "    max_number = c\n",
    "\n",
    "# Print the maximum number\n",
    "print(\"The maximum number among\",a,b,c, 'is:' ,max_number)\n"
   ]
  },
  {
   "cell_type": "markdown",
   "id": "5fbb3f5a",
   "metadata": {},
   "source": [
    "5. Write a program that asks the user for a temperature (in Celsius) and prints \"It's freezing\" if the temperature is below 0, \"It's cool\" if it's between 0 and 10, \"It's warm\" if it's between 10 and 20, and \"It's hot\" if it's above 20\n"
   ]
  },
  {
   "cell_type": "code",
   "execution_count": 31,
   "id": "fdf69235",
   "metadata": {},
   "outputs": [
    {
     "name": "stdout",
     "output_type": "stream",
     "text": [
      "enter the temper in celsius26\n",
      "its hot\n"
     ]
    }
   ],
   "source": [
    "T = int(input(\"enter the temper in celsius\"))\n",
    "if T  == 0:\n",
    "    print(\"its freezing\")\n",
    "elif T >0 and T<=10 :\n",
    "    print(\"its cool\")\n",
    "elif T >10 and T<=20:\n",
    "    print(\"its warm\")\n",
    "else:\n",
    "    print(\"its hot\")"
   ]
  },
  {
   "cell_type": "markdown",
   "id": "3c1e72c2",
   "metadata": {},
   "source": [
    "6.Write a program that asks the user for a number (1-7) and prints the corresponding day of the week"
   ]
  },
  {
   "cell_type": "code",
   "execution_count": null,
   "id": "aadb64cb",
   "metadata": {},
   "outputs": [],
   "source": [
    "day = int(input(\"Enter a number between 1 and 7: \"))\n",
    "\n",
    "# Map the input number to the corresponding day of the week\n",
    "if day == 1:\n",
    "    print(\" Sunday\")\n",
    "elif day == 2:\n",
    "    print( \"Monday\")\n",
    "elif day == 3:\n",
    "    print(\" Tuesday\")\n",
    "elif day == 4:\n",
    "    print(\" Wednesday\")\n",
    "elif day == 5:\n",
    "    print(\" Thursday\")\n",
    "elif day == 6:\n",
    "    print(\" Friday\")\n",
    "elif day == 7:\n",
    "    print(\"Saturday\")\n",
    "else:\n",
    "    print(\"Invalid input! Please enter a number between 1 and 7.\")\n"
   ]
  },
  {
   "cell_type": "markdown",
   "id": "893f499a",
   "metadata": {},
   "source": [
    "7. Write a program that asks the user for a number and prints \"In range\" if the number is between 10 and 20 (inclusive), and \"Out of range\" otherwise."
   ]
  },
  {
   "cell_type": "code",
   "execution_count": 34,
   "id": "2d280c73",
   "metadata": {},
   "outputs": [
    {
     "name": "stdout",
     "output_type": "stream",
     "text": [
      "enter a number50\n",
      "Out of range\n"
     ]
    }
   ],
   "source": [
    "num = int(input( \"enter a number\"))\n",
    "if num >=10 and num <=20:\n",
    "    print(\"In range\")\n",
    "else:\n",
    "    print(\"Out of range\")"
   ]
  },
  {
   "cell_type": "markdown",
   "id": "3d864248",
   "metadata": {},
   "source": [
    "8. Write a program that asks the user for an integer and prints whether it's even or odd."
   ]
  },
  {
   "cell_type": "code",
   "execution_count": 36,
   "id": "65177ca9",
   "metadata": {},
   "outputs": [
    {
     "name": "stdout",
     "output_type": "stream",
     "text": [
      "enter a number165\n",
      "odd\n"
     ]
    }
   ],
   "source": [
    "num = int(input( \"enter a number\"))\n",
    "if num%2==0:\n",
    "    print(\"even\")\n",
    "else:\n",
    "    print(\"odd\")"
   ]
  },
  {
   "cell_type": "markdown",
   "id": "f166a6aa",
   "metadata": {},
   "source": [
    "9. Write a Python program to add 'ing' at the end of a given string (string length should be equal to or more than 3). If the given string already ends with 'ing' then add 'ly' instead.If the string length of the given string is less than 3, leave it unchanged\n"
   ]
  },
  {
   "cell_type": "code",
   "execution_count": 64,
   "id": "fa6dc0a3",
   "metadata": {},
   "outputs": [
    {
     "name": "stdout",
     "output_type": "stream",
     "text": [
      "enter a string arn\n",
      "arning\n"
     ]
    }
   ],
   "source": [
    "y=input('enter a string ')\n",
    "\n",
    "if len(y)<3:  \n",
    "    print((y))\n",
    "elif y.endswith('ing'):\n",
    "    print(y+(\"ly\"))\n",
    "else:\n",
    "    print((y)+('ing'))"
   ]
  },
  {
   "cell_type": "code",
   "execution_count": null,
   "id": "2fcdbf75",
   "metadata": {},
   "outputs": [],
   "source": []
  }
 ],
 "metadata": {
  "kernelspec": {
   "display_name": "Python 3 (ipykernel)",
   "language": "python",
   "name": "python3"
  },
  "language_info": {
   "codemirror_mode": {
    "name": "ipython",
    "version": 3
   },
   "file_extension": ".py",
   "mimetype": "text/x-python",
   "name": "python",
   "nbconvert_exporter": "python",
   "pygments_lexer": "ipython3",
   "version": "3.11.3"
  }
 },
 "nbformat": 4,
 "nbformat_minor": 5
}
