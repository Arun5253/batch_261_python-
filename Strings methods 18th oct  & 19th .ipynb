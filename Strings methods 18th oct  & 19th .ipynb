{
 "cells": [
  {
   "cell_type": "markdown",
   "id": "fdbdb21f",
   "metadata": {},
   "source": [
    "# STRINGS"
   ]
  },
  {
   "cell_type": "code",
   "execution_count": 1,
   "id": "be4a55c0",
   "metadata": {},
   "outputs": [],
   "source": [
    "#len(500) #uncomment to see the error"
   ]
  },
  {
   "cell_type": "markdown",
   "id": "f4a1f233",
   "metadata": {},
   "source": [
    "# Description"
   ]
  },
  {
   "cell_type": "code",
   "execution_count": 2,
   "id": "ad53f329",
   "metadata": {},
   "outputs": [
    {
     "name": "stdout",
     "output_type": "stream",
     "text": [
      "this is a string enclosed in a single qoute\n",
      "this is a string enclosed in a double qoute\n",
      "this is a multi-line string, enclosed in a triple single qoute\n"
     ]
    }
   ],
   "source": [
    "s1='this is a string enclosed in a single qoute'\n",
    "s2=\"this is a string enclosed in a double qoute\"\n",
    "s3='''this is a multi-line string, enclosed in a triple single qoute'''\n",
    "print(s1,s2,s3,sep='\\n')"
   ]
  },
  {
   "cell_type": "markdown",
   "id": "19cb6329",
   "metadata": {},
   "source": [
    "# Indexing and slicing"
   ]
  },
  {
   "cell_type": "markdown",
   "id": "3c4260af",
   "metadata": {},
   "source": [
    "![](https://miro.medium.com/v2/resize:fit:1280/0*qDCi23-EE7HSLAre.png)"
   ]
  },
  {
   "cell_type": "code",
   "execution_count": 29,
   "id": "2104e88f",
   "metadata": {},
   "outputs": [
    {
     "name": "stdout",
     "output_type": "stream",
     "text": [
      "nac\n",
      "QR\n",
      "eo Q\n"
     ]
    }
   ],
   "source": [
    "x='scan the QR code'\n",
    "print(x[1:4][::-1])\n",
    "print(x[-7:-5])\n",
    "print(x[:-8:-2])"
   ]
  },
  {
   "cell_type": "markdown",
   "id": "4364002b",
   "metadata": {},
   "source": [
    "# String concatination"
   ]
  },
  {
   "cell_type": "markdown",
   "id": "5378eda5",
   "metadata": {},
   "source": [
    "![](https://i1.faceprep.in/Companies-1/string-concatenation-in-python.png)"
   ]
  },
  {
   "cell_type": "code",
   "execution_count": 30,
   "id": "596730f8",
   "metadata": {},
   "outputs": [
    {
     "name": "stdout",
     "output_type": "stream",
     "text": [
      "hihi\n",
      "hihihihihi\n"
     ]
    }
   ],
   "source": [
    "x='hi'\n",
    "print(x+x)\n",
    "print(x*5)"
   ]
  },
  {
   "cell_type": "code",
   "execution_count": 31,
   "id": "02b68743",
   "metadata": {},
   "outputs": [
    {
     "data": {
      "text/plain": [
       "'the edoc'"
      ]
     },
     "execution_count": 31,
     "metadata": {},
     "output_type": "execute_result"
    }
   ],
   "source": [
    "x='scan the QR code'\n",
    "x[5:9]+x[-1:-5:-1]"
   ]
  },
  {
   "cell_type": "code",
   "execution_count": 32,
   "id": "6f94b053",
   "metadata": {},
   "outputs": [
    {
     "name": "stdout",
     "output_type": "stream",
     "text": [
      "True False\n",
      "scan the QR code\n"
     ]
    },
    {
     "data": {
      "text/plain": [
       "16"
      ]
     },
     "execution_count": 32,
     "metadata": {},
     "output_type": "execute_result"
    }
   ],
   "source": [
    "x='scan the QR code'\n",
    "print('scan' in x,'Scan' in x)\n",
    "print(x)\n",
    "len(x)"
   ]
  },
  {
   "cell_type": "markdown",
   "id": "59e51770",
   "metadata": {},
   "source": [
    "# Conversion ‘A’ to ‘a’ (capital letters to small letters) we call it as Ascii value\n",
    "\n",
    "* To get the Ascii value of the character is Ord(‘’) → gives the Ascii value\n",
    "* Difference between ‘A’ and ‘a’= 32 in Ascii value\n",
    "* Uniform Case — Across the all ex: ABC abc\n",
    "* Any character that lies between 65 to 91 is upper/Capital case alphabet\n",
    "\n",
    "- Steps:\n",
    "\n",
    "- Check for the Ascii vaue of the each character\n",
    "- If it is between the range, then add the ascii value (ex: ‘A’ — 65 and ‘a’ — 32, here we need to add 65+32 = 97 then chr(‘97’)\n"
   ]
  },
  {
   "cell_type": "code",
   "execution_count": null,
   "id": "c9105651",
   "metadata": {},
   "outputs": [],
   "source": []
  },
  {
   "cell_type": "markdown",
   "id": "c5967170",
   "metadata": {},
   "source": [
    "# Methods in string"
   ]
  },
  {
   "cell_type": "code",
   "execution_count": 33,
   "id": "bcdcc5f7",
   "metadata": {},
   "outputs": [
    {
     "data": {
      "text/plain": [
       "['__add__',\n",
       " '__class__',\n",
       " '__contains__',\n",
       " '__delattr__',\n",
       " '__dir__',\n",
       " '__doc__',\n",
       " '__eq__',\n",
       " '__format__',\n",
       " '__ge__',\n",
       " '__getattribute__',\n",
       " '__getitem__',\n",
       " '__getnewargs__',\n",
       " '__getstate__',\n",
       " '__gt__',\n",
       " '__hash__',\n",
       " '__init__',\n",
       " '__init_subclass__',\n",
       " '__iter__',\n",
       " '__le__',\n",
       " '__len__',\n",
       " '__lt__',\n",
       " '__mod__',\n",
       " '__mul__',\n",
       " '__ne__',\n",
       " '__new__',\n",
       " '__reduce__',\n",
       " '__reduce_ex__',\n",
       " '__repr__',\n",
       " '__rmod__',\n",
       " '__rmul__',\n",
       " '__setattr__',\n",
       " '__sizeof__',\n",
       " '__str__',\n",
       " '__subclasshook__',\n",
       " 'capitalize',\n",
       " 'casefold',\n",
       " 'center',\n",
       " 'count',\n",
       " 'encode',\n",
       " 'endswith',\n",
       " 'expandtabs',\n",
       " 'find',\n",
       " 'format',\n",
       " 'format_map',\n",
       " 'index',\n",
       " 'isalnum',\n",
       " 'isalpha',\n",
       " 'isascii',\n",
       " 'isdecimal',\n",
       " 'isdigit',\n",
       " 'isidentifier',\n",
       " 'islower',\n",
       " 'isnumeric',\n",
       " 'isprintable',\n",
       " 'isspace',\n",
       " 'istitle',\n",
       " 'isupper',\n",
       " 'join',\n",
       " 'ljust',\n",
       " 'lower',\n",
       " 'lstrip',\n",
       " 'maketrans',\n",
       " 'partition',\n",
       " 'removeprefix',\n",
       " 'removesuffix',\n",
       " 'replace',\n",
       " 'rfind',\n",
       " 'rindex',\n",
       " 'rjust',\n",
       " 'rpartition',\n",
       " 'rsplit',\n",
       " 'rstrip',\n",
       " 'split',\n",
       " 'splitlines',\n",
       " 'startswith',\n",
       " 'strip',\n",
       " 'swapcase',\n",
       " 'title',\n",
       " 'translate',\n",
       " 'upper',\n",
       " 'zfill']"
      ]
     },
     "execution_count": 33,
     "metadata": {},
     "output_type": "execute_result"
    }
   ],
   "source": [
    "dir(x)"
   ]
  },
  {
   "cell_type": "code",
   "execution_count": 34,
   "id": "affa0308",
   "metadata": {},
   "outputs": [
    {
     "data": {
      "text/plain": [
       "47"
      ]
     },
     "execution_count": 34,
     "metadata": {},
     "output_type": "execute_result"
    }
   ],
   "source": [
    "z=['capitalize',\n",
    " 'casefold',\n",
    " 'center',\n",
    " 'count',\n",
    " 'encode',\n",
    " 'endswith',\n",
    " 'expandtabs',\n",
    " 'find',\n",
    " 'format',\n",
    " 'format_map',\n",
    " 'index',\n",
    " 'isalnum',\n",
    " 'isalpha',\n",
    " 'isascii',\n",
    " 'isdecimal',\n",
    " 'isdigit',\n",
    " 'isidentifier',\n",
    " 'islower',\n",
    " 'isnumeric',\n",
    " 'isprintable',\n",
    " 'isspace',\n",
    " 'istitle',\n",
    " 'isupper',\n",
    " 'join',\n",
    " 'ljust',\n",
    " 'lower',\n",
    " 'lstrip',\n",
    " 'maketrans',\n",
    " 'partition',\n",
    " 'removeprefix',\n",
    " 'removesuffix',\n",
    " 'replace',\n",
    " 'rfind',\n",
    " 'rindex',\n",
    " 'rjust',\n",
    " 'rpartition',\n",
    " 'rsplit',\n",
    " 'rstrip',\n",
    " 'split',\n",
    " 'splitlines',\n",
    " 'startswith',\n",
    " 'strip',\n",
    " 'swapcase',\n",
    " 'title',\n",
    " 'translate',\n",
    " 'upper',\n",
    " 'zfill']\n",
    "len(z)"
   ]
  },
  {
   "cell_type": "markdown",
   "id": "fb7d6bed",
   "metadata": {},
   "source": [
    "# Replace\n",
    "- The replace() method replaces each matching occurrence of a substring with another string.\n",
    " ### syntax   -  str.replace(old, new [, count])  \n",
    "- The replace() method can take a maximum of three arguments:\n",
    "\n",
    "- old - the old substring we want to replace\n",
    "- new - new substring which will replace the old substring\n",
    "- count (optional) - the number of times you want to replace the old substring with the new string"
   ]
  },
  {
   "cell_type": "code",
   "execution_count": 35,
   "id": "aacad079",
   "metadata": {},
   "outputs": [
    {
     "data": {
      "text/plain": [
       "'x+abaaba'"
      ]
     },
     "execution_count": 35,
     "metadata": {},
     "output_type": "execute_result"
    }
   ],
   "source": [
    "x='x+abaaba'\n",
    "x.replace('X','A')"
   ]
  },
  {
   "cell_type": "code",
   "execution_count": 36,
   "id": "3d29628f",
   "metadata": {},
   "outputs": [
    {
     "name": "stdout",
     "output_type": "stream",
     "text": [
      "Help on built-in function replace:\n",
      "\n",
      "replace(old, new, count=-1, /) method of builtins.str instance\n",
      "    Return a copy with all occurrences of substring old replaced by new.\n",
      "    \n",
      "      count\n",
      "        Maximum number of occurrences to replace.\n",
      "        -1 (the default value) means replace all occurrences.\n",
      "    \n",
      "    If the optional argument count is given, only the first count occurrences are\n",
      "    replaced.\n",
      "\n"
     ]
    }
   ],
   "source": [
    "help(x.replace)"
   ]
  },
  {
   "cell_type": "markdown",
   "id": "31e835e9",
   "metadata": {},
   "source": [
    "# Uppercase\n",
    "- The upper() method converts all lowercase characters in a string into uppercase characters and returns it\n",
    "   - syntax - string.upper()\n",
    "- upper() Parameters\n",
    "upper() method doesn't take any parameters.\n",
    "- upper() Return Value\n",
    "upper() method returns the uppercase string from the given string. It converts all lowercase characters to uppercase.\n",
    "\n",
    "- If no lowercase characters exist, it returns the original string.\n"
   ]
  },
  {
   "cell_type": "code",
   "execution_count": 37,
   "id": "ec147533",
   "metadata": {},
   "outputs": [
    {
     "name": "stdout",
     "output_type": "stream",
     "text": [
      "Help on built-in function upper:\n",
      "\n",
      "upper() method of builtins.str instance\n",
      "    Return a copy of the string converted to uppercase.\n",
      "\n"
     ]
    }
   ],
   "source": [
    "help(s.upper)"
   ]
  },
  {
   "cell_type": "code",
   "execution_count": 38,
   "id": "5a14ff7c",
   "metadata": {},
   "outputs": [
    {
     "name": "stdout",
     "output_type": "stream",
     "text": [
      "welcome@123\n",
      "WELCOME@123\n"
     ]
    }
   ],
   "source": [
    "s=\"welcome@123\"\n",
    "a=s.upper()\n",
    "#print(a)\n",
    "#print(s)\n",
    "print(s,a,sep='\\n')"
   ]
  },
  {
   "cell_type": "code",
   "execution_count": 39,
   "id": "79304f53",
   "metadata": {},
   "outputs": [
    {
     "name": "stdout",
     "output_type": "stream",
     "text": [
      "Im Too late to Catch the TRAIN at the Railwaystation\n",
      "IM TOO LATE TO CATCH the TRAIN at the RAILWAYSTATION\n"
     ]
    }
   ],
   "source": [
    "s=\"Im Too late to Catch the TRAIN at the Railwaystation\"\n",
    "a=s.upper()\n",
    "print(s,a,sep='\\n')"
   ]
  },
  {
   "cell_type": "markdown",
   "id": "c23c7e58",
   "metadata": {},
   "source": [
    "# Lowercase\n",
    "- The lower() method converts all uppercase characters in a string into lowercase characters and returns it\n",
    "   - Syntax of String lower()\n",
    "   - string.lower()\n",
    "  -lower() Parameters()\n",
    "- lower() method doesn't take any parameters.\n",
    "\n",
    "- lower() Return value\n",
    "- lower() method returns the lowercase string from the given string. It converts all uppercase characters to lowercase.\n",
    "\n",
    "- If no uppercase characters exist, it returns the original string.\n",
    "\n"
   ]
  },
  {
   "cell_type": "code",
   "execution_count": 40,
   "id": "345815be",
   "metadata": {},
   "outputs": [
    {
     "name": "stdout",
     "output_type": "stream",
     "text": [
      "Help on built-in function lower:\n",
      "\n",
      "lower() method of builtins.str instance\n",
      "    Return a copy of the string converted to lowercase.\n",
      "\n"
     ]
    }
   ],
   "source": [
    "help(s.lower)"
   ]
  },
  {
   "cell_type": "code",
   "execution_count": 41,
   "id": "b1161591",
   "metadata": {},
   "outputs": [
    {
     "name": "stdout",
     "output_type": "stream",
     "text": [
      "welcome@123\n",
      "welcome@123\n"
     ]
    }
   ],
   "source": [
    "s=\"welcome@123\"\n",
    "a=s.lower()\n",
    "print(s,a,sep='\\n')"
   ]
  },
  {
   "cell_type": "code",
   "execution_count": 42,
   "id": "d4773dca",
   "metadata": {},
   "outputs": [
    {
     "name": "stdout",
     "output_type": "stream",
     "text": [
      "Im Too late to Catch the TRAIN at the Railwaystation\n",
      "im too late to catch the train at the railwaystation\n"
     ]
    }
   ],
   "source": [
    "s=\"Im Too late to Catch the TRAIN at the Railwaystation\"\n",
    "a=s.lower()\n",
    "print(s,a,sep='\\n')"
   ]
  },
  {
   "cell_type": "markdown",
   "id": "60d97fd2",
   "metadata": {},
   "source": [
    "# Title \n",
    "## syntax - str.title()\n",
    "- Return Value from title()\n",
    "- title() method returns a title cased version of the string. Meaning, the first character of each word is capitalized (if the first character is a letter)."
   ]
  },
  {
   "cell_type": "code",
   "execution_count": 43,
   "id": "84c9deb6",
   "metadata": {},
   "outputs": [
    {
     "name": "stdout",
     "output_type": "stream",
     "text": [
      "Help on built-in function title:\n",
      "\n",
      "title() method of builtins.str instance\n",
      "    Return a version of the string where each word is titlecased.\n",
      "    \n",
      "    More specifically, words start with uppercased characters and all remaining\n",
      "    cased characters have lower case.\n",
      "\n"
     ]
    }
   ],
   "source": [
    "help(x.title)"
   ]
  },
  {
   "cell_type": "code",
   "execution_count": 44,
   "id": "62c2dc61",
   "metadata": {},
   "outputs": [
    {
     "data": {
      "text/plain": [
       "'Game Of Thrones!!!'"
      ]
     },
     "execution_count": 44,
     "metadata": {},
     "output_type": "execute_result"
    }
   ],
   "source": [
    "s='game of thrones!!!'\n",
    "s.title()\n",
    "\n"
   ]
  },
  {
   "cell_type": "code",
   "execution_count": 45,
   "id": "b63f3226",
   "metadata": {},
   "outputs": [
    {
     "name": "stdout",
     "output_type": "stream",
     "text": [
      "My Favorite Number Is 27.\n",
      "234 K3L2 *43 Fun\n"
     ]
    }
   ],
   "source": [
    "a = 'My favorite number is 27.'\n",
    "print(a.title())\n",
    "\n",
    "a = '234 k3l2 *43 fun'\n",
    "print(a.title())"
   ]
  },
  {
   "cell_type": "markdown",
   "id": "e0b4d6db",
   "metadata": {},
   "source": [
    "# ordered"
   ]
  },
  {
   "cell_type": "code",
   "execution_count": 46,
   "id": "adb43efc",
   "metadata": {},
   "outputs": [
    {
     "name": "stdout",
     "output_type": "stream",
     "text": [
      "98\n",
      "B\n"
     ]
    }
   ],
   "source": [
    "print(ord('b'))\n",
    "print(chr(ord('b')-32))"
   ]
  },
  {
   "cell_type": "code",
   "execution_count": 47,
   "id": "9aa126ac",
   "metadata": {},
   "outputs": [
    {
     "name": "stdout",
     "output_type": "stream",
     "text": [
      "99\n",
      "c\n"
     ]
    }
   ],
   "source": [
    "print(ord('c'))\n",
    "print(chr(ord('C')+32))"
   ]
  },
  {
   "cell_type": "code",
   "execution_count": 48,
   "id": "87a113ea",
   "metadata": {},
   "outputs": [
    {
     "name": "stdout",
     "output_type": "stream",
     "text": [
      "68\n",
      "D\n"
     ]
    }
   ],
   "source": [
    "print(ord('D'))\n",
    "print(chr(ord('d')-32))"
   ]
  },
  {
   "cell_type": "markdown",
   "id": "bb59bd3d",
   "metadata": {},
   "source": [
    "# swapcase\n",
    "- The swapcase() method returns the string by converting all the characters to their opposite letter case( uppercase to lowercase and vice versa)\n",
    "## syntax - string.swapcase()\n",
    "- swapcase() Parameters\n",
    "- The swapcase() method doesn't take any parameters.\n",
    "\n",
    "- swapcase() Return Value\n",
    "- The swapcase() method returns:\n",
    "\n",
    "- the string after converting its uppercase characters to lowercase, and lowercase characters to uppercase"
   ]
  },
  {
   "cell_type": "code",
   "execution_count": 49,
   "id": "d647eed9",
   "metadata": {},
   "outputs": [
    {
     "name": "stdout",
     "output_type": "stream",
     "text": [
      "Help on built-in function swapcase:\n",
      "\n",
      "swapcase() method of builtins.str instance\n",
      "    Convert uppercase characters to lowercase and lowercase characters to uppercase.\n",
      "\n"
     ]
    }
   ],
   "source": [
    "help(s.swapcase)"
   ]
  },
  {
   "cell_type": "code",
   "execution_count": 50,
   "id": "ba83859a",
   "metadata": {},
   "outputs": [
    {
     "data": {
      "text/plain": [
       "'gAME oF tHRONES!!!'"
      ]
     },
     "execution_count": 50,
     "metadata": {},
     "output_type": "execute_result"
    }
   ],
   "source": [
    "s='Game Of Thrones!!!'\n",
    "s.swapcase()"
   ]
  },
  {
   "cell_type": "code",
   "execution_count": 51,
   "id": "6f584d47",
   "metadata": {},
   "outputs": [
    {
     "name": "stdout",
     "output_type": "stream",
     "text": [
      "mY FAVORITE NUMBER IS 27.\n",
      "234 K3L2 *43 FUN\n"
     ]
    }
   ],
   "source": [
    "a = 'My favorite number is 27.'\n",
    "print(a.swapcase())\n",
    "\n",
    "a = '234 k3l2 *43 fun'\n",
    "print(a.swapcase())"
   ]
  },
  {
   "cell_type": "markdown",
   "id": "86fbd727",
   "metadata": {},
   "source": [
    "# Casefold \n",
    "- The casefold() method converts all characters of the string into lowercase letters and returns a new string\n",
    "## syntax - str.casefold\n",
    "- The casefold() method returns: a lowercased string"
   ]
  },
  {
   "cell_type": "code",
   "execution_count": 52,
   "id": "9b82bf32",
   "metadata": {},
   "outputs": [
    {
     "data": {
      "text/plain": [
       "('ß is a german char', 'ss is a german char')"
      ]
     },
     "execution_count": 52,
     "metadata": {},
     "output_type": "execute_result"
    }
   ],
   "source": [
    "s='ß is a german char'\n",
    "s.lower(),s.casefold()"
   ]
  },
  {
   "cell_type": "code",
   "execution_count": 53,
   "id": "72c248fa",
   "metadata": {},
   "outputs": [
    {
     "data": {
      "text/plain": [
       "('¡de nada is a german char', '¡de nada is a german char')"
      ]
     },
     "execution_count": 53,
     "metadata": {},
     "output_type": "execute_result"
    }
   ],
   "source": [
    "s='¡de nada is a german char'\n",
    "s.lower(),s.casefold()\n"
   ]
  },
  {
   "cell_type": "code",
   "execution_count": 54,
   "id": "e027b15b",
   "metadata": {},
   "outputs": [
    {
     "data": {
      "text/plain": [
       "('b is a english char', 'b is a english char')"
      ]
     },
     "execution_count": 54,
     "metadata": {},
     "output_type": "execute_result"
    }
   ],
   "source": [
    "s='B is a english char'\n",
    "s.lower(),s.casefold()"
   ]
  },
  {
   "cell_type": "code",
   "execution_count": 55,
   "id": "b73a488e",
   "metadata": {},
   "outputs": [
    {
     "name": "stdout",
     "output_type": "stream",
     "text": [
      "Help on built-in function casefold:\n",
      "\n",
      "casefold() method of builtins.str instance\n",
      "    Return a version of the string suitable for caseless comparisons.\n",
      "\n"
     ]
    }
   ],
   "source": [
    "help(s.casefold)"
   ]
  },
  {
   "cell_type": "markdown",
   "id": "c8097ebc",
   "metadata": {},
   "source": [
    "# capitalize \n",
    "- The capitalize() method converts the first character of a string to an uppercase letter and all other alphabets to lowercase\n",
    " ## syntax- str.captalize\n",
    " \n",
    "      -capitalize() Return Value\n",
    "      The capitalize() method returns: a string with the first letter capitalized and all other characters in lowercase"
   ]
  },
  {
   "cell_type": "code",
   "execution_count": 1,
   "id": "1543b8b3",
   "metadata": {},
   "outputs": [
    {
     "name": "stdout",
     "output_type": "stream",
     "text": [
      "126game of THRONES\n",
      "126game of thrones\n"
     ]
    }
   ],
   "source": [
    "s= '126game of THRONES'\n",
    "sc=s.capitalize()\n",
    "print(s,sc,sep='\\n')"
   ]
  },
  {
   "cell_type": "code",
   "execution_count": 2,
   "id": "50b45389",
   "metadata": {},
   "outputs": [
    {
     "name": "stdout",
     "output_type": "stream",
     "text": [
      "My favorite number is 27.\n",
      "My favorite number is 27.\n",
      "234 k3l2 *43 fun\n"
     ]
    }
   ],
   "source": [
    "a = 'My favorite number is 27.'\n",
    "b=(a.capitalize())\n",
    "print(a,b,sep='\\n')\n",
    "\n",
    "\n",
    "a = '234 k3l2 *43 fun'\n",
    "print(a.capitalize())"
   ]
  },
  {
   "cell_type": "code",
   "execution_count": 58,
   "id": "b7b57edc",
   "metadata": {},
   "outputs": [
    {
     "name": "stdout",
     "output_type": "stream",
     "text": [
      "Help on built-in function capitalize:\n",
      "\n",
      "capitalize() method of builtins.str instance\n",
      "    Return a capitalized version of the string.\n",
      "    \n",
      "    More specifically, make the first character have upper case and the rest lower\n",
      "    case.\n",
      "\n"
     ]
    }
   ],
   "source": [
    "help(s.capitalize)"
   ]
  },
  {
   "cell_type": "markdown",
   "id": "24edb18b",
   "metadata": {},
   "source": [
    "#  find\n",
    "- The find() method returns the index of first occurrence of the substring (if found). If not found, it returns -1\n",
    "## syntax - str.find(sub[, start[, end]] \n",
    "\n",
    "- find() Parameters\n",
    "- The find() method takes maximum of three parameters:\n",
    "\n",
    "- sub - It is the substring to be searched in the str string.\n",
    "- start and end (optional) - The range str[start:end] within which substring is searched.\n",
    "\n",
    "\n",
    "    - find() Return Value\n",
    "- The find() method returns an integer value:\n",
    "\n",
    "- If the substring exists inside the string, it returns the index of the first occurence of the substring.\n",
    "- If a substring doesn't exist inside the string, it returns -1"
   ]
  },
  {
   "cell_type": "code",
   "execution_count": 14,
   "id": "bddb902d",
   "metadata": {},
   "outputs": [
    {
     "name": "stdout",
     "output_type": "stream",
     "text": [
      "14\n",
      "35\n"
     ]
    }
   ],
   "source": [
    "str = 'this is first text. this is second text'\n",
    "print(str.find(\"text\"))# indexing Start from lhs\n",
    "print(str.find(\"text\",20 ,40))"
   ]
  },
  {
   "cell_type": "markdown",
   "id": "ab5d24fd",
   "metadata": {},
   "source": [
    " # rfind \n",
    " Syntax - str.rfind(sub[, start[, end]] )\n",
    " - sub - It's the substring to be searched in the str string.\n",
    " - start and end (optional) - substring is searched within str[start:end]\n",
    "-  If substring exists inside the string, it returns the highest index where substring is found.\n",
    "- If substring doesn't exist inside the string, it returns -1.\n",
    "\n"
   ]
  },
  {
   "cell_type": "code",
   "execution_count": 17,
   "id": "987bbf62",
   "metadata": {},
   "outputs": [
    {
     "name": "stdout",
     "output_type": "stream",
     "text": [
      "35\n",
      "35\n"
     ]
    }
   ],
   "source": [
    "str = 'this is first text. this is second text'\n",
    "print(str.rfind(\"text\")) # indexing start from RHS\n",
    "print(str.rfind(\"text\",20 ,40))"
   ]
  },
  {
   "cell_type": "markdown",
   "id": "73a27763",
   "metadata": {},
   "source": [
    "# count \n",
    "- The count() method returns the number of occurrences of a substring in the given string.\n",
    "## syntax - string.count(substring, start=..., end=...)\n",
    "- substring - string whose count is to be found. \n",
    "- start (Optional) - starting index within the string where search starts.\n",
    "- end (Optional) - ending index within the string where search ends.\n",
    "       \n",
    "      Note: Index in Python starts from 0, not 1.\n",
    "- count() method returns the number of occurrences of the substring in the given string."
   ]
  },
  {
   "cell_type": "code",
   "execution_count": 16,
   "id": "abc8c298",
   "metadata": {},
   "outputs": [
    {
     "name": "stdout",
     "output_type": "stream",
     "text": [
      "46\n",
      "2\n",
      "3\n",
      "1\n"
     ]
    }
   ],
   "source": [
    "str1=(\"this is a demo.this is an another demo .demo \")\n",
    "print(str1.count(''))\n",
    "print(str1.count('this'))\n",
    "print(str1.count('demo'))\n",
    "print(str1.count('demo',7,25)) # demo is appearing from 7 to 25 index"
   ]
  },
  {
   "cell_type": "markdown",
   "id": "9b7914b8",
   "metadata": {},
   "source": [
    "# index \n",
    "- The index() method returns the index of a substring inside the string (if found). If the substring is not found, it raises an exception\n",
    "## syntax - str.index(sub[, start[, end]] )\n",
    "* sub - substring to be searched in the string str.\n",
    "* start and end(optional) - substring is searched within str[start:end]\n",
    "- If substring exists inside the string, it returns the lowest index in the string where substring is found.\n",
    "- If substring doesn't exist inside the string, it raises a ValueError exception.\n",
    "- The index() method is similar to the find() method for strings.\n",
    "\n",
    "- The only difference is that find() method returns -1 if the substring is not found, whereas index() throws an exception."
   ]
  },
  {
   "cell_type": "code",
   "execution_count": 20,
   "id": "b95a29db",
   "metadata": {},
   "outputs": [
    {
     "name": "stdout",
     "output_type": "stream",
     "text": [
      "14\n",
      "35\n"
     ]
    }
   ],
   "source": [
    "str = 'this is first text. this is second text'\n",
    "print(str.index(\"text\"))\n",
    "print(str.index(\"text\",20 ,40))"
   ]
  },
  {
   "cell_type": "markdown",
   "id": "1fba4ebf",
   "metadata": {},
   "source": [
    "# rindex\n",
    "## syntax - str.rindex(sub[, start[, end]] )\n",
    "- sub - substring to be searched in the str string.\n",
    "- start and end(optional) - substring is searched within str[start:end]\n",
    "- If substring exists inside the string, it returns the highest index in the string where the substring is found.\n",
    "- If substring doesn't exist inside the string, it raises a ValueError exception.\n",
    "- rindex() method is similar to rfind() method for strings.\n",
    "\n"
   ]
  },
  {
   "cell_type": "code",
   "execution_count": 21,
   "id": "40834bd2",
   "metadata": {},
   "outputs": [
    {
     "name": "stdout",
     "output_type": "stream",
     "text": [
      "35\n",
      "35\n"
     ]
    }
   ],
   "source": [
    "str = 'this is first text. this is second text'\n",
    "print(str.rindex(\"text\"))\n",
    "print(str.rindex(\"text\",20 ,40))"
   ]
  },
  {
   "cell_type": "markdown",
   "id": "e824a14d",
   "metadata": {},
   "source": [
    "# split \n",
    "- The split() method splits a string at the specified separator and returns a list of substrings\n",
    "## syntax - str.split(separator, maxsplit)\n",
    "* separator (optional)- Delimiter at which splits occur. If not provided, the string is splitted at whitespaces.\n",
    "* maxsplit (optional) - Maximum number of splits. If not provided, there is no limit on the number of splits."
   ]
  },
  {
   "cell_type": "code",
   "execution_count": 41,
   "id": "e1a6d09d",
   "metadata": {},
   "outputs": [
    {
     "name": "stdout",
     "output_type": "stream",
     "text": [
      "['I', 'will', 'make', 'you', 'into', 'a', 'great', 'nation,', 'and', 'I', 'will', 'bless', 'you;\\n\\nI', 'will', 'make', 'your', 'name', 'great,', 'and', 'you', 'will', 'be', 'a', 'blessing.\\n\\nI', 'will', 'bless', 'those', 'who', 'bless', 'you,', 'and', 'whoever', 'curses', 'you', 'I', 'will', 'curse']\n",
      "['I', 'will', 'make you into a great nation, and I will bless you;\\n\\nI will make your name great, and you will be a blessing.\\n\\nI will bless those who bless you, and whoever curses you I will curse']\n"
     ]
    }
   ],
   "source": [
    "str2 = \"\"\"I will make you into a great nation, and I will bless you;\n",
    "\n",
    "I will make your name great, and you will be a blessing.\n",
    "\n",
    "I will bless those who bless you, and whoever curses you I will curse\"\"\"\n",
    "print(str2.split(' '))\n",
    "\n",
    "print(str2.split(maxsplit=2))\n"
   ]
  },
  {
   "cell_type": "markdown",
   "id": "b152748e",
   "metadata": {},
   "source": [
    "#  rsplit() \n",
    "The syntax of rsplit() is:\n",
    "\n",
    "    - str.rsplit([separator [, maxsplit]])\n",
    "- separator (optional)- The is a delimiter. rsplit() method splits string starting from the right at the specified separator.\n",
    "- If the separator is not specified, any whitespace (space, newline etc.) string is a separator.\n",
    "- maxsplit (optional) - The maxsplit defines the maximum number of splits.\n",
    "- The default value of maxsplit is -1, meaning, no limit on the number of splits."
   ]
  },
  {
   "cell_type": "code",
   "execution_count": 50,
   "id": "961e30c6",
   "metadata": {},
   "outputs": [
    {
     "name": "stdout",
     "output_type": "stream",
     "text": [
      "['I', 'will', 'make', 'you', 'into', 'a', 'great', 'nation,', 'and', 'I', 'will', 'bless', 'you;\\n\\nI', 'will', 'make', 'your', 'name', 'great,', 'and', 'you', 'will', 'be', 'a', 'blessing.\\n\\nI', 'will', 'bless', 'those', 'who', 'bless', 'you,', 'and', 'whoever', 'curses', 'you', 'I', 'will', 'curse']\n",
      "['I will make you into a great nation, and I will bless you;\\n\\nI will make your name great, and you will be a blessing.\\n\\nI will bless those who bless you, and whoever curses', 'you', 'I', 'will', 'curse']\n"
     ]
    }
   ],
   "source": [
    "str2 = \"\"\"I will make you into a great nation, and I will bless you;\n",
    "\n",
    "I will make your name great, and you will be a blessing.\n",
    "\n",
    "I will bless those who bless you, and whoever curses you I will curse\"\"\"\n",
    "print(str2.rsplit(\" \"))\n",
    "\n",
    "print(str2.rsplit(maxsplit=4))"
   ]
  },
  {
   "cell_type": "markdown",
   "id": "63e36a41",
   "metadata": {},
   "source": [
    "# partition \n",
    "- The partition method returns a 3-tuple containing:\n",
    "\n",
    "- the part before the separator, separator parameter, and the part after the separator if the separator parameter is found in the string\n",
    "- the string itself and two empty strings if the separator parameter is not found\n",
    " ## syntax - string.partition(separator)"
   ]
  },
  {
   "cell_type": "code",
   "execution_count": 60,
   "id": "291817a9",
   "metadata": {},
   "outputs": [
    {
     "name": "stdout",
     "output_type": "stream",
     "text": [
      "('', ' ', 'Malayalam  ')\n",
      "(' M', 'a', 'layalam  ')\n",
      "(' Malayalam  ', '', '')\n",
      " Malayalam  \n"
     ]
    }
   ],
   "source": [
    "str2 = \"\"\" Malayalam  \"\"\"\n",
    "print(str2.partition(\" \"))\n",
    "print(str2.partition(\"a\"))\n",
    "print(str2.partition(\" z\"))\n",
    "print(str2.partition(\" \")[0]+str2.partition(\" \")[1]+str2.partition(\" \")[2])\n"
   ]
  },
  {
   "cell_type": "markdown",
   "id": "aff67870",
   "metadata": {},
   "source": [
    "# rpartition() \n",
    "- rpartition() method takes a string parameter separator that separates the string at the last occurrence of it.\n",
    "\n",
    "- rpartition method returns a 3-tuple containing:\n",
    "- the part before the separator, separator parameter, and the part after the separator if the separator parameter is found in the string\n",
    "- two empty strings, followed by the string itself if the separator parameter is not found\n",
    "## syntax - string.rpartition(separator)\n"
   ]
  },
  {
   "cell_type": "code",
   "execution_count": 61,
   "id": "b6a4dbea",
   "metadata": {},
   "outputs": [
    {
     "name": "stdout",
     "output_type": "stream",
     "text": [
      "(' Malayalam ', ' ', '')\n",
      "(' Malayal', 'a', 'm  ')\n",
      "('', '', ' Malayalam  ')\n",
      " Malayalam  \n"
     ]
    }
   ],
   "source": [
    "# r partition \n",
    "str2 = \"\"\" Malayalam  \"\"\"\n",
    "print(str2.rpartition(\" \"))\n",
    "print(str2.rpartition(\"a\"))\n",
    "print(str2.rpartition(\" z\"))\n",
    "print(str2.rpartition(\" \")[0]+str2.rpartition(\" \")[1]+str2.rpartition(\" \")[2])\n"
   ]
  },
  {
   "cell_type": "code",
   "execution_count": 30,
   "id": "71f7149f",
   "metadata": {
    "scrolled": false
   },
   "outputs": [
    {
     "name": "stdout",
     "output_type": "stream",
     "text": [
      "Help on built-in function find:\n",
      "\n",
      "find(...) method of builtins.str instance\n",
      "    S.find(sub[, start[, end]]) -> int\n",
      "    \n",
      "    Return the lowest index in S where substring sub is found,\n",
      "    such that sub is contained within S[start:end].  Optional\n",
      "    arguments start and end are interpreted as in slice notation.\n",
      "    \n",
      "    Return -1 on failure.\n",
      "\n",
      "Help on built-in function rfind:\n",
      "\n",
      "rfind(...) method of builtins.str instance\n",
      "    S.rfind(sub[, start[, end]]) -> int\n",
      "    \n",
      "    Return the highest index in S where substring sub is found,\n",
      "    such that sub is contained within S[start:end].  Optional\n",
      "    arguments start and end are interpreted as in slice notation.\n",
      "    \n",
      "    Return -1 on failure.\n",
      "\n",
      "Help on built-in function count:\n",
      "\n",
      "count(...) method of builtins.str instance\n",
      "    S.count(sub[, start[, end]]) -> int\n",
      "    \n",
      "    Return the number of non-overlapping occurrences of substring sub in\n",
      "    string S[start:end].  Optional arguments start and end are\n",
      "    interpreted as in slice notation.\n",
      "\n",
      "Help on built-in function index:\n",
      "\n",
      "index(...) method of builtins.str instance\n",
      "    S.index(sub[, start[, end]]) -> int\n",
      "    \n",
      "    Return the lowest index in S where substring sub is found,\n",
      "    such that sub is contained within S[start:end].  Optional\n",
      "    arguments start and end are interpreted as in slice notation.\n",
      "    \n",
      "    Raises ValueError when the substring is not found.\n",
      "\n",
      "Help on built-in function rindex:\n",
      "\n",
      "rindex(...) method of builtins.str instance\n",
      "    S.rindex(sub[, start[, end]]) -> int\n",
      "    \n",
      "    Return the highest index in S where substring sub is found,\n",
      "    such that sub is contained within S[start:end].  Optional\n",
      "    arguments start and end are interpreted as in slice notation.\n",
      "    \n",
      "    Raises ValueError when the substring is not found.\n",
      "\n",
      "Help on built-in function split:\n",
      "\n",
      "split(sep=None, maxsplit=-1) method of builtins.str instance\n",
      "    Return a list of the substrings in the string, using sep as the separator string.\n",
      "    \n",
      "      sep\n",
      "        The separator used to split the string.\n",
      "    \n",
      "        When set to None (the default value), will split on any whitespace\n",
      "        character (including \\\\n \\\\r \\\\t \\\\f and spaces) and will discard\n",
      "        empty strings from the result.\n",
      "      maxsplit\n",
      "        Maximum number of splits (starting from the left).\n",
      "        -1 (the default value) means no limit.\n",
      "    \n",
      "    Note, str.split() is mainly useful for data that has been intentionally\n",
      "    delimited.  With natural text that includes punctuation, consider using\n",
      "    the regular expression module.\n",
      "\n",
      "Help on built-in function rsplit:\n",
      "\n",
      "rsplit(sep=None, maxsplit=-1) method of builtins.str instance\n",
      "    Return a list of the substrings in the string, using sep as the separator string.\n",
      "    \n",
      "      sep\n",
      "        The separator used to split the string.\n",
      "    \n",
      "        When set to None (the default value), will split on any whitespace\n",
      "        character (including \\\\n \\\\r \\\\t \\\\f and spaces) and will discard\n",
      "        empty strings from the result.\n",
      "      maxsplit\n",
      "        Maximum number of splits (starting from the left).\n",
      "        -1 (the default value) means no limit.\n",
      "    \n",
      "    Splitting starts at the end of the string and works to the front.\n",
      "\n",
      "Help on built-in function partition:\n",
      "\n",
      "partition(sep, /) method of builtins.str instance\n",
      "    Partition the string into three parts using the given separator.\n",
      "    \n",
      "    This will search for the separator in the string.  If the separator is found,\n",
      "    returns a 3-tuple containing the part before the separator, the separator\n",
      "    itself, and the part after it.\n",
      "    \n",
      "    If the separator is not found, returns a 3-tuple containing the original string\n",
      "    and two empty strings.\n",
      "\n",
      "Help on built-in function rpartition:\n",
      "\n",
      "rpartition(sep, /) method of builtins.str instance\n",
      "    Partition the string into three parts using the given separator.\n",
      "    \n",
      "    This will search for the separator in the string, starting at the end. If\n",
      "    the separator is found, returns a 3-tuple containing the part before the\n",
      "    separator, the separator itself, and the part after it.\n",
      "    \n",
      "    If the separator is not found, returns a 3-tuple containing two empty strings\n",
      "    and the original string.\n",
      "\n"
     ]
    }
   ],
   "source": [
    "help(str.find)\n",
    "help(str.rfind)\n",
    "help(str.count)\n",
    "help(str.index)\n",
    "help(str.rindex)\n",
    "help(str.split )\n",
    "help(str.rsplit )\n",
    "help(str.partition)\n",
    "help(str.rpartition)"
   ]
  },
  {
   "cell_type": "code",
   "execution_count": null,
   "id": "bbb36a2b",
   "metadata": {},
   "outputs": [],
   "source": []
  }
 ],
 "metadata": {
  "kernelspec": {
   "display_name": "Python 3 (ipykernel)",
   "language": "python",
   "name": "python3"
  },
  "language_info": {
   "codemirror_mode": {
    "name": "ipython",
    "version": 3
   },
   "file_extension": ".py",
   "mimetype": "text/x-python",
   "name": "python",
   "nbconvert_exporter": "python",
   "pygments_lexer": "ipython3",
   "version": "3.11.3"
  }
 },
 "nbformat": 4,
 "nbformat_minor": 5
}
