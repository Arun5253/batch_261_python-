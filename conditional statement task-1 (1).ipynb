{
 "cells": [
  {
   "cell_type": "markdown",
   "id": "f94cb2f8",
   "metadata": {},
   "source": [
    "1. Write a Python program that asks the user for their age and prints \"You are an adult\" if the age is 18 or older, otherwise prints \"You are a minor'"
   ]
  },
  {
   "cell_type": "code",
   "execution_count": 1,
   "id": "1c8cfd2f",
   "metadata": {},
   "outputs": [
    {
     "name": "stdout",
     "output_type": "stream",
     "text": [
      "Please enter your age: 76\n",
      "You are an adult\n"
     ]
    }
   ],
   "source": [
    "age = int(input(\"Please enter your age: \"))\n",
    "if age >= 18:   # this  if check the age is >=18 \n",
    "    print(\"You are an adult\")  # prints the statement  if the age is above >=18\n",
    "else:  # if age is below <=18 then  returns to else  condition block\n",
    "    print(\"You are a minor\") # print the stateme if age is <=18\n"
   ]
  },
  {
   "cell_type": "markdown",
   "id": "a7af796a",
   "metadata": {},
   "source": [
    "2.Write a program that takes a numerical grade (out of 100) as input and prints the corresponding letter grade according to the following scale:\n",
    " 90-100: A\n",
    " 80-89: B\n",
    " 70-79: C\n",
    " 60-69: D\n",
    " Below 60: F\n"
   ]
  },
  {
   "cell_type": "code",
   "execution_count": 2,
   "id": "4d53eefa",
   "metadata": {},
   "outputs": [
    {
     "name": "stdout",
     "output_type": "stream",
     "text": [
      "Enter your numerical grade (out of 100): 87\n",
      "B\n"
     ]
    }
   ],
   "source": [
    "# Taking the numerical grade as input from the user\n",
    "grade = int(input(\"Enter your numerical grade (out of 100): \"))\n",
    "if grade >=90: \n",
    "    print(\"A\")\n",
    "elif grade >= 80: \n",
    "    print(\"B\")\n",
    "elif grade >= 70:\n",
    "    print(\"C\")\n",
    "elif grade >= 60:\n",
    "    print(\"D\")\n",
    "else:\n",
    "    print(\"F\")\n",
    "\n"
   ]
  },
  {
   "cell_type": "markdown",
   "id": "7f7ee10a",
   "metadata": {},
   "source": [
    "3.Write a program that calculates the Body Mass Index (BMI) of a person. The user should input their weight in kilograms and height in meters. The program should then print whether the person is underweight, normal weight, overweight, or obese\n"
   ]
  },
  {
   "cell_type": "code",
   "execution_count": 3,
   "id": "4dc90113",
   "metadata": {},
   "outputs": [
    {
     "name": "stdout",
     "output_type": "stream",
     "text": [
      "enter Wt in KG87\n",
      "enter Ht in M2.25\n",
      "underweight\n"
     ]
    }
   ],
   "source": [
    "weight = float(input(\"enter Wt in KG\"))\n",
    "height = float(input(\"enter Ht in M\"))\n",
    "bmi = weight/(height*height)\n",
    "if bmi <18.5:\n",
    "    print(\"underweight\")\n",
    "elif bmi in range(18,24):\n",
    "    print(\"normal weight\")\n",
    "elif bmi in range(25,29):\n",
    "    print(\"over weight\")\n",
    "else:\n",
    "    print(\"obese\")\n",
    "\n",
    "\n",
    "    "
   ]
  },
  {
   "cell_type": "markdown",
   "id": "99332bbd",
   "metadata": {},
   "source": [
    "4.Write a program that asks the user for three numbers and prints the maximum of the three."
   ]
  },
  {
   "cell_type": "code",
   "execution_count": 4,
   "id": "a00d1530",
   "metadata": {},
   "outputs": [
    {
     "name": "stdout",
     "output_type": "stream",
     "text": [
      "Enter the first number: 8\n",
      "Enter the second number: 8\n",
      "Enter the third number: 8\n",
      "The maximum number among 8 8 8 is: 8\n"
     ]
    }
   ],
   "source": [
    "# Ask the user to input three numbers\n",
    "a = int(input(\"Enter the first number: \"))\n",
    "b = int(input(\"Enter the second number: \"))\n",
    "c = int(input(\"Enter the third number: \"))\n",
    "\n",
    "# Check for the maximum number using conditional statements\n",
    "if a >= b and a >=c:\n",
    "    max_number = a\n",
    "elif b >=a and b >= c:\n",
    "    max_number = b\n",
    "else:\n",
    "    max_number = c\n",
    "\n",
    "# Print the maximum number\n",
    "print(\"The maximum number among\",a,b,c, 'is:' ,max_number)\n"
   ]
  },
  {
   "cell_type": "markdown",
   "id": "5fbb3f5a",
   "metadata": {},
   "source": [
    "5. Write a program that asks the user for a temperature (in Celsius) and prints \"It's freezing\" if the temperature is below 0, \"It's cool\" if it's between 0 and 10, \"It's warm\" if it's between 10 and 20, and \"It's hot\" if it's above 20\n"
   ]
  },
  {
   "cell_type": "code",
   "execution_count": 5,
   "id": "fdf69235",
   "metadata": {},
   "outputs": [
    {
     "name": "stdout",
     "output_type": "stream",
     "text": [
      "enter the temper in celsius76\n",
      "its hot\n"
     ]
    }
   ],
   "source": [
    "T = int(input(\"enter the temper in celsius\"))\n",
    "if T  == 0:\n",
    "    print(\"its freezing\")\n",
    "elif T >0 and T<=10 :\n",
    "    print(\"its cool\")\n",
    "elif T >10 and T<=20:\n",
    "    print(\"its warm\")\n",
    "else:\n",
    "    print(\"its hot\")"
   ]
  },
  {
   "cell_type": "markdown",
   "id": "3c1e72c2",
   "metadata": {},
   "source": [
    "6.Write a program that asks the user for a number (1-7) and prints the corresponding day of the week"
   ]
  },
  {
   "cell_type": "code",
   "execution_count": 8,
   "id": "aadb64cb",
   "metadata": {},
   "outputs": [
    {
     "name": "stdout",
     "output_type": "stream",
     "text": [
      "Enter a number between 1 and 7: 6\n",
      " Friday\n"
     ]
    }
   ],
   "source": [
    "day = int(input(\"Enter a number between 1 and 7: \"))\n",
    "\n",
    "# Map the input number to the corresponding day of the week\n",
    "if day == 1:\n",
    "    print(\" Sunday\")\n",
    "elif day == 2:\n",
    "    print( \"Monday\")\n",
    "elif day == 3:\n",
    "    print(\" Tuesday\")\n",
    "elif day == 4:\n",
    "    print(\" Wednesday\")\n",
    "elif day == 5:\n",
    "    print(\" Thursday\")\n",
    "elif day == 6:\n",
    "    print(\" Friday\")\n",
    "elif day == 7:\n",
    "    print(\"Saturday\")\n",
    "else:\n",
    "    print(\"Invalid input! Please enter a number between 1 and 7.\")\n"
   ]
  },
  {
   "cell_type": "markdown",
   "id": "893f499a",
   "metadata": {},
   "source": [
    "7. Write a program that asks the user for a number and prints \"In range\" if the number is between 10 and 20 (inclusive), and \"Out of range\" otherwise."
   ]
  },
  {
   "cell_type": "code",
   "execution_count": 9,
   "id": "2d280c73",
   "metadata": {},
   "outputs": [
    {
     "name": "stdout",
     "output_type": "stream",
     "text": [
      "enter a number23\n",
      "Out of range\n"
     ]
    }
   ],
   "source": [
    "num = int(input( \"enter a number\"))\n",
    "if num >=10 and num <=20:\n",
    "    print(\"In range\")\n",
    "else:\n",
    "    print(\"Out of range\")"
   ]
  },
  {
   "cell_type": "markdown",
   "id": "3d864248",
   "metadata": {},
   "source": [
    "8. Write a program that asks the user for an integer and prints whether it's even or odd."
   ]
  },
  {
   "cell_type": "code",
   "execution_count": 10,
   "id": "65177ca9",
   "metadata": {},
   "outputs": [
    {
     "name": "stdout",
     "output_type": "stream",
     "text": [
      "enter a number23\n",
      "odd\n"
     ]
    }
   ],
   "source": [
    "num = int(input( \"enter a number\"))\n",
    "if num%2==0:\n",
    "    print(\"even\")\n",
    "else:\n",
    "    print(\"odd\")"
   ]
  },
  {
   "cell_type": "markdown",
   "id": "f166a6aa",
   "metadata": {},
   "source": [
    "9. Write a Python program to add 'ing' at the end of a given string (string length should be equal to or more than 3). If the given string already ends with 'ing' then add 'ly' instead.If the string length of the given string is less than 3, leave it unchanged\n"
   ]
  },
  {
   "cell_type": "code",
   "execution_count": 11,
   "id": "fa6dc0a3",
   "metadata": {},
   "outputs": [
    {
     "name": "stdout",
     "output_type": "stream",
     "text": [
      "enter a string aru\n",
      "aruing\n"
     ]
    }
   ],
   "source": [
    "y=input('enter a string ')\n",
    "\n",
    "if len(y)<3:  \n",
    "    print((y))\n",
    "elif y.endswith('ing'):\n",
    "    print(y+(\"ly\"))\n",
    "else:\n",
    "    print((y)+('ing'))\n",
    "    \n",
    "    "
   ]
  },
  {
   "cell_type": "markdown",
   "id": "3b12bbe5",
   "metadata": {},
   "source": [
    "10. Create rock-paper-scissors by using the if condition.\n"
   ]
  },
  {
   "cell_type": "code",
   "execution_count": 12,
   "id": "adce3a59",
   "metadata": {},
   "outputs": [
    {
     "name": "stdout",
     "output_type": "stream",
     "text": [
      "Choice of Person 1 (Rock/Paper/Scissors): rock\n",
      "Choice of Person 2 (Rock/Paper/Scissors): paper\n",
      "Person 1 chose rock and Person 2 chose paper.\n",
      "Person 2 wins the round.\n"
     ]
    }
   ],
   "source": [
    "P1 = input(\"Choice of Person 1 (Rock/Paper/Scissors): \").lower() # changes the all input to lowercase\n",
    "P2 = input(\"Choice of Person 2 (Rock/Paper/Scissors): \").lower()\n",
    "\n",
    "print(\"Person 1 chose {} and Person 2 chose {}.\".format(P1, P2)) # .format() method will replace the {}\n",
    "\n",
    "if (P1 == 'rock' and P2 == 'rock') or (P1 == 'paper' and P2 == 'paper') or (P1 == 'scissors' and P2 == 'scissors'): #This condition checks for a tie when both players choose the same option.\n",
    "    print(\"Nobody wins, play another round.\")\n",
    "elif (P1 == 'rock' and P2 == 'scissors') or (P1 == 'paper' and P2 == 'rock') or (P1 == 'scissors' and P2 == 'paper'): #\"\"\"This condition checks first player wins by choosing a specific item that beats the second player's choice\"\"\"\n",
    "    print(\"Person 1 wins the round.\")\n",
    "elif (P1 == 'scissors' and P2 == 'rock') or (P1 == 'rock' and P2 == 'paper') or (P1 == 'paper' and P2 == 'scissors'): # this condition checks send player wins by chossing specific that beats first player \n",
    "    print(\"Person 2 wins the round.\")\n",
    "else:\n",
    "    print(\"Wrong inputs are given. Please enter Rock, Paper, or Scissors.\")\n",
    "    "
   ]
  },
  {
   "cell_type": "markdown",
   "id": "98d7094b",
   "metadata": {},
   "source": [
    "    \n",
    "11. Create a dynamic calculator which asks for numbers and operator and return the answers,\n",
    "* Input: Type first number: 10\",\n",
    "* Type any of this (+, -, /, %,*,** )\n",
    "* Assignment-2 ,\n",
    "* Type second number: 19,\n",
    "* Output:Answer is 190\n"
   ]
  },
  {
   "cell_type": "code",
   "execution_count": 78,
   "id": "df933214",
   "metadata": {},
   "outputs": [
    {
     "name": "stdout",
     "output_type": "stream",
     "text": [
      "enter the first number10\n",
      "enter the second number19\n",
      "Type any of this (+, -, /, %,*,** )\n",
      "enter the type of operator *\n",
      "Answer is  190.0\n"
     ]
    }
   ],
   "source": [
    "C1 = float(input('enter the first number'))\n",
    "C2 = float(input('enter the second number'))\n",
    "print('Type any of this (+, -, /, %,*,** )')\n",
    "T = input(\"enter the type of operator \")\n",
    "if  T== \"+\":\n",
    "    print(\"Answer is \" ,C1+C2) # add\n",
    "elif T== \"-\":\n",
    "    print(\"Answer is \", C1-C2) #sub\n",
    "elif T== \"/\":\n",
    "    print(\"Answer is \" ,C1/C2)\n",
    "elif T== \"%\":\n",
    "    print(\"Answer is \" ,C1%C2)\n",
    "elif T== \"*\":\n",
    "    print(\"Answer is \" ,C1*C2)\n",
    "elif T== \"**\":\n",
    "    print(\"Answer is \" ,C1**C2)\n",
    "else:\n",
    "    print(\"please above operator only\")\n"
   ]
  },
  {
   "cell_type": "markdown",
   "id": "20d9157a",
   "metadata": {},
   "source": [
    "12. Manoj Kumar has family and friends. Help him remind them who is who. Given a string with a name, return the relation of that person to Manoj Kumar.,Person Relation,Shiva father ,Letha mother, Tarun brother,Kavitha sister ,,Strange Coder.\n",
    "\n",
    "\n"
   ]
  },
  {
   "cell_type": "code",
   "execution_count": 18,
   "id": "bc293c36",
   "metadata": {},
   "outputs": [
    {
     "name": "stdout",
     "output_type": "stream",
     "text": [
      "Enter the name: Shiva\n",
      "Shiva is Manoj Kumar's father.\n"
     ]
    }
   ],
   "source": [
    "name = str(input('Enter the name: ')) # Taking user input as a string\n",
    "\n",
    "# Checking the relationship based on the entered name\n",
    "if name == \"Shiva\":\n",
    "    print('Shiva is Manoj Kumar\\'s father.')\n",
    "elif name == \"Letha\":\n",
    "    print('Letha is Manoj Kumar\\'s mother.')\n",
    "elif name == \"Tarun\":\n",
    "    print('Tarun is Manoj Kumar\\'s brother.')\n",
    "elif name == \"Kavitha\":\n",
    "    print('Kavitha is Manoj Kumar\\'s sister.')\n",
    "else:\n",
    "    print('Stranger')\n"
   ]
  },
  {
   "cell_type": "markdown",
   "id": "b7b3eb18",
   "metadata": {},
   "source": [
    "13. Write a python program that takes in a word and determines whether or not it is plural. A plural word is one that ends with “s"
   ]
  },
  {
   "cell_type": "code",
   "execution_count": 25,
   "id": "a11dd1ce",
   "metadata": {},
   "outputs": [
    {
     "name": "stdout",
     "output_type": "stream",
     "text": [
      "Enter a word: Arun's\n",
      "The word 'Arun's' is plural.\n"
     ]
    }
   ],
   "source": [
    "word = input(\"Enter a word: \")  # Takes input from the user\n",
    "\n",
    "# Check if the word ends with 's'\n",
    "if word.endswith('s'):\n",
    "    print(f\"The word '{word}' is plural.\")  # If the word ends with 's', it's considered plural\n",
    "else:\n",
    "    print(f\"The word '{word}' is not plural.\")  # If the word doesn't end with 's', it's not considered plural\n"
   ]
  },
  {
   "cell_type": "markdown",
   "id": "625c3e17",
   "metadata": {},
   "source": [
    "14. A company decided to give a bonus of 5% to employees if his/her year of service is more than 5 years.Ask user for their salary and year of service and print the net bonus amount."
   ]
  },
  {
   "cell_type": "code",
   "execution_count": 49,
   "id": "eba27714",
   "metadata": {},
   "outputs": [
    {
     "name": "stdout",
     "output_type": "stream",
     "text": [
      "Enter your salary: 25000\n",
      "Enter your years of service: 6\n",
      " congratulations bonus  26250.0\n"
     ]
    }
   ],
   "source": [
    "salary = float(input(\"Enter your salary: \"))  # Converts the user's input string into a floating-point number.\n",
    "years_of_service = int(input(\"Enter your years of service: \"))  # input for the employee's years of service, Converts the input string into an integer.\n",
    "\n",
    "if years_of_service >5:\n",
    "    bonus = 0.05 * salary  # Calculate the bonus amount (5% of the salary)\n",
    "    print(\" congratulations bonus \", salary + bonus) \n",
    "else:\n",
    "    print(\"Sorry, you are not eligible for a bonus.\")\n"
   ]
  },
  {
   "cell_type": "markdown",
   "id": "6807ee1f",
   "metadata": {},
   "source": [
    "15. Take values of length and breadth of a rectangle from the user and check if it is square or not.\n",
    "\n",
    "\n"
   ]
  },
  {
   "cell_type": "code",
   "execution_count": 43,
   "id": "5c910926",
   "metadata": {},
   "outputs": [
    {
     "name": "stdout",
     "output_type": "stream",
     "text": [
      "enter the length: 40\n",
      "enter the breadth: 4\n",
      "160 it is a rectangle\n"
     ]
    }
   ],
   "source": [
    "len=int(input(\"enter the length: \"))\n",
    "bre=int(input(\"enter the breadth: \"))\n",
    "\n",
    "if len==bre:\n",
    "    print (\"it is a square\")\n",
    "else:\n",
    "    area=len*bre\n",
    "    print(area ,\"it is a rectangle\")\n",
    "    "
   ]
  },
  {
   "cell_type": "markdown",
   "id": "1d63cddb",
   "metadata": {},
   "source": [
    "16.Accept any city from the user and display the momentum of the city \n",
    "Hyderabad  : “charminar”\n",
    "“Delhi”         : “red fort\n",
    "“Agra           : Taj mahal\n",
    "If the city name is not given correctly, give him a warning message.\n"
   ]
  },
  {
   "cell_type": "code",
   "execution_count": 65,
   "id": "2d4a1ffd",
   "metadata": {},
   "outputs": [
    {
     "name": "stdout",
     "output_type": "stream",
     "text": [
      "enter the city name Delhi\n",
      "the momentum of the Delhi  is red fort\n"
     ]
    }
   ],
   "source": [
    "city = input(\"enter the city name \")\n",
    "if city == (\"Hyderabad\"):\n",
    "    print('the momentum of the',city,\" is charminar\")\n",
    "elif city == (\"Delhi\"):\n",
    "    print('the momentum of the',city,\" is red fort\")\n",
    "elif city == (\"Agra\"):\n",
    "    print('the momentum of the',city,\" is Taj mahal\")\n",
    "else:\n",
    "    print(\"warning you have entered unknown city \")\n",
    "    "
   ]
  },
  {
   "cell_type": "markdown",
   "id": "1509c910",
   "metadata": {},
   "source": [
    "17. Write a program to check whether a person is eligible for voting or not  (voting age>=18)"
   ]
  },
  {
   "cell_type": "code",
   "execution_count": 67,
   "id": "56cd4ec1",
   "metadata": {},
   "outputs": [
    {
     "name": "stdout",
     "output_type": "stream",
     "text": [
      "enter the age 45\n",
      "eligible for voting\n"
     ]
    }
   ],
   "source": [
    "age = int(input(\"enter the age \"))\n",
    "if age >=18:\n",
    "    print(\"eligible for voting\")\n",
    "else:\n",
    "    print(\"not eligible for voting \")"
   ]
  },
  {
   "cell_type": "markdown",
   "id": "71287491",
   "metadata": {},
   "source": [
    "18.Accept three sides of the triangle and check whether the triangle is possible or not.(Triangle is possible only when the sum of any two sides is greater than 3 rd side)."
   ]
  },
  {
   "cell_type": "code",
   "execution_count": 72,
   "id": "49a238bf",
   "metadata": {},
   "outputs": [
    {
     "name": "stdout",
     "output_type": "stream",
     "text": [
      "Enter the first angle: 12\n",
      "Enter the second angle: 10\n",
      "Enter the third angle: 30\n",
      "triangle is possible\n"
     ]
    }
   ],
   "source": [
    "T1 = int(input(\"Enter the first angle: \")) \n",
    "T2 = int(input(\"Enter the second angle: \")) \n",
    "T3 = int(input(\"Enter the third angle: \"))\n",
    "if T1+T2>T3 or T2+T3>T1 or T3+T1>T2:   # out of three conditions atlest 1 will executed  or operator\n",
    "    print(\"triangle is possible\")\n",
    "else:\n",
    "    print(\"triangle is not possible\")"
   ]
  },
  {
   "cell_type": "code",
   "execution_count": null,
   "id": "d76487a0",
   "metadata": {},
   "outputs": [],
   "source": []
  }
 ],
 "metadata": {
  "kernelspec": {
   "display_name": "Python 3 (ipykernel)",
   "language": "python",
   "name": "python3"
  },
  "language_info": {
   "codemirror_mode": {
    "name": "ipython",
    "version": 3
   },
   "file_extension": ".py",
   "mimetype": "text/x-python",
   "name": "python",
   "nbconvert_exporter": "python",
   "pygments_lexer": "ipython3",
   "version": "3.11.3"
  }
 },
 "nbformat": 4,
 "nbformat_minor": 5
}
